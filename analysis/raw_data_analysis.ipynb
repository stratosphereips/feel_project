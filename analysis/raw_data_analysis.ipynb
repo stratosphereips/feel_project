{
 "cells": [
  {
   "cell_type": "code",
   "execution_count": 2,
   "outputs": [],
   "source": [
    "import pandas as pd \n",
    "from zat.log_to_dataframe import LogToDataFrame\n",
    "from pathlib import Path\n",
    "from matplotlib import pyplot as plt"
   ],
   "metadata": {
    "collapsed": false
   }
  },
  {
   "cell_type": "code",
   "execution_count": 3,
   "outputs": [],
   "source": [
    "data_dir = Path('../../data/Raw').resolve()\n",
    "normal_dir = data_dir / 'Normal'\n",
    "malware_dir = data_dir / 'Malware'\n",
    "user_dir = normal_dir / 'CTU-Normal-50'\n",
    "day1_dir = user_dir / 'Day1'"
   ],
   "metadata": {
    "collapsed": false
   }
  },
  {
   "cell_type": "code",
   "execution_count": 4,
   "outputs": [
    {
     "ename": "FileNotFoundError",
     "evalue": "[Errno 2] No such file or directory: '/home/pjanata/skola/mthesis/data/Raw/Normal/CTU-Normal-50/Day1'",
     "output_type": "error",
     "traceback": [
      "\u001B[0;31m---------------------------------------------------------------------------\u001B[0m",
      "\u001B[0;31mFileNotFoundError\u001B[0m                         Traceback (most recent call last)",
      "Cell \u001B[0;32mIn [4], line 1\u001B[0m\n\u001B[0;32m----> 1\u001B[0m \u001B[38;5;28;43mlist\u001B[39;49m\u001B[43m(\u001B[49m\u001B[43mday1_dir\u001B[49m\u001B[38;5;241;43m.\u001B[39;49m\u001B[43miterdir\u001B[49m\u001B[43m(\u001B[49m\u001B[43m)\u001B[49m\u001B[43m)\u001B[49m\n",
      "File \u001B[0;32m~/.pyenv/versions/3.10.2/lib/python3.10/pathlib.py:1015\u001B[0m, in \u001B[0;36mPath.iterdir\u001B[0;34m(self)\u001B[0m\n\u001B[1;32m   1011\u001B[0m \u001B[38;5;28;01mdef\u001B[39;00m \u001B[38;5;21miterdir\u001B[39m(\u001B[38;5;28mself\u001B[39m):\n\u001B[1;32m   1012\u001B[0m     \u001B[38;5;124;03m\"\"\"Iterate over the files in this directory.  Does not yield any\u001B[39;00m\n\u001B[1;32m   1013\u001B[0m \u001B[38;5;124;03m    result for the special paths '.' and '..'.\u001B[39;00m\n\u001B[1;32m   1014\u001B[0m \u001B[38;5;124;03m    \"\"\"\u001B[39;00m\n\u001B[0;32m-> 1015\u001B[0m     \u001B[38;5;28;01mfor\u001B[39;00m name \u001B[38;5;129;01min\u001B[39;00m \u001B[38;5;28;43mself\u001B[39;49m\u001B[38;5;241;43m.\u001B[39;49m\u001B[43m_accessor\u001B[49m\u001B[38;5;241;43m.\u001B[39;49m\u001B[43mlistdir\u001B[49m\u001B[43m(\u001B[49m\u001B[38;5;28;43mself\u001B[39;49m\u001B[43m)\u001B[49m:\n\u001B[1;32m   1016\u001B[0m         \u001B[38;5;28;01mif\u001B[39;00m name \u001B[38;5;129;01min\u001B[39;00m {\u001B[38;5;124m'\u001B[39m\u001B[38;5;124m.\u001B[39m\u001B[38;5;124m'\u001B[39m, \u001B[38;5;124m'\u001B[39m\u001B[38;5;124m..\u001B[39m\u001B[38;5;124m'\u001B[39m}:\n\u001B[1;32m   1017\u001B[0m             \u001B[38;5;66;03m# Yielding a path object for these makes little sense\u001B[39;00m\n\u001B[1;32m   1018\u001B[0m             \u001B[38;5;28;01mcontinue\u001B[39;00m\n",
      "\u001B[0;31mFileNotFoundError\u001B[0m: [Errno 2] No such file or directory: '/home/pjanata/skola/mthesis/data/Raw/Normal/CTU-Normal-50/Day1'"
     ]
    }
   ],
   "source": [
    "list(day1_dir.iterdir())"
   ],
   "metadata": {
    "collapsed": false
   }
  },
  {
   "cell_type": "code",
   "execution_count": null,
   "outputs": [],
   "source": [
    "data = {}\n",
    "for file in day1_dir.iterdir():\n",
    "    if file.suffix == '.log':\n",
    "        data[file.stem] =  LogToDataFrame().create_dataframe(file)\n",
    "        label_file = file.parent / f'{file.name}'\n",
    "        if label_file.exists():\n",
    "            data[f'{file.stem}_labeled'] = LogToDataFrame().create_dataframe(label_file)"
   ],
   "metadata": {
    "collapsed": false
   }
  },
  {
   "cell_type": "code",
   "execution_count": null,
   "outputs": [],
   "source": [
    "data['x509_labeled']"
   ],
   "metadata": {
    "collapsed": false
   }
  },
  {
   "cell_type": "code",
   "execution_count": null,
   "outputs": [],
   "source": [
    "for normal_user_dir in normal_dir.iterdir():\n",
    "    fig, axs = plt.subplots(1, 5, figsize=(25, 5))\n",
    "    fig.suptitle(normal_user_dir.name)\n",
    "    for day, ax in zip(normal_user_dir.iterdir(), axs):\n",
    "        ssl = LogToDataFrame().create_dataframe(day / 'ssl.log.labeled')\n",
    "        if len(ssl):   \n",
    "            times = ssl.index.to_series()\n",
    "            times.groupby(pd.Grouper(freq='1H')).count().plot(ax=ax, title=day.stem)"
   ],
   "metadata": {
    "collapsed": false
   }
  },
  {
   "cell_type": "code",
   "execution_count": null,
   "outputs": [],
   "source": [
    "for malware_user_dir in malware_dir.iterdir():\n",
    "    fig.suptitle(malware_user_dir.name)\n",
    "    ssl_file = malware_user_dir / 'zeek' / 'ssl.log'\n",
    "    ssl = LogToDataFrame().create_dataframe(ssl_file)\n",
    "    plt.figure()\n",
    "    if len(ssl):   \n",
    "        times = ssl.index.to_series()\n",
    "        span = times.max() - times.min()\n",
    "        times.groupby(pd.Grouper(freq='1H')).count().plot(title=f'{malware_user_dir.name}, {span}')"
   ],
   "metadata": {
    "collapsed": false
   }
  }
 ],
 "metadata": {
  "kernelspec": {
   "display_name": "Python 3 (ipykernel)",
   "language": "python",
   "name": "python3"
  },
  "language_info": {
   "codemirror_mode": {
    "name": "ipython",
    "version": 3
   },
   "file_extension": ".py",
   "mimetype": "text/x-python",
   "name": "python",
   "nbconvert_exporter": "python",
   "pygments_lexer": "ipython3",
   "version": "3.9.6"
  }
 },
 "nbformat": 4,
 "nbformat_minor": 5
}
