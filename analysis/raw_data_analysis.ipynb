{
 "cells": [
  {
   "cell_type": "code",
   "execution_count": null,
   "outputs": [],
   "source": [
    "import pandas as pd \n",
    "from zat.log_to_dataframe import LogToDataFrame\n",
    "from pathlib import Path\n",
    "from matplotlib import pyplot as plt"
   ],
   "metadata": {
    "collapsed": false,
    "pycharm": {
     "name": "#%%\n"
    }
   }
  },
  {
   "cell_type": "code",
   "execution_count": null,
   "outputs": [],
   "source": [
    "data_dir = Path('../../data/Raw').resolve()\n",
    "normal_dir = data_dir / 'Normal'\n",
    "malware_dir = data_dir / 'Malware'\n",
    "user_dir = normal_dir / 'CTU-Normal-50'\n",
    "day1_dir = user_dir / 'Day1'"
   ],
   "metadata": {
    "collapsed": false,
    "pycharm": {
     "name": "#%%\n"
    }
   }
  },
  {
   "cell_type": "code",
   "execution_count": null,
   "outputs": [],
   "source": [
    "list(day1_dir.iterdir())"
   ],
   "metadata": {
    "collapsed": false,
    "pycharm": {
     "name": "#%%\n"
    }
   }
  },
  {
   "cell_type": "code",
   "execution_count": null,
   "outputs": [],
   "source": [
    "data = {}\n",
    "for file in day1_dir.iterdir():\n",
    "    if file.suffix == '.log':\n",
    "        data[file.stem] =  LogToDataFrame().create_dataframe(file)\n",
    "        label_file = file.parent / f'{file.name}'\n",
    "        if label_file.exists():\n",
    "            data[f'{file.stem}_labeled'] = LogToDataFrame().create_dataframe(label_file)"
   ],
   "metadata": {
    "collapsed": false,
    "pycharm": {
     "name": "#%%\n"
    }
   }
  },
  {
   "cell_type": "code",
   "execution_count": null,
   "outputs": [],
   "source": [
    "data['x509_labeled']"
   ],
   "metadata": {
    "collapsed": false,
    "pycharm": {
     "name": "#%%\n"
    }
   }
  },
  {
   "cell_type": "code",
   "execution_count": null,
   "outputs": [],
   "source": [
    "for normal_user_dir in normal_dir.iterdir():\n",
    "    fig, axs = plt.subplots(1, 5, figsize=(25, 5))\n",
    "    fig.suptitle(normal_user_dir.name)\n",
    "    for day, ax in zip(normal_user_dir.iterdir(), axs):\n",
    "        ssl = LogToDataFrame().create_dataframe(day / 'ssl.log.labeled')\n",
    "        if len(ssl):   \n",
    "            times = ssl.index.to_series()\n",
    "            times.groupby(pd.Grouper(freq='1H')).count().plot(ax=ax, title=day.stem)"
   ],
   "metadata": {
    "collapsed": false,
    "pycharm": {
     "name": "#%%\n"
    }
   }
  },
  {
   "cell_type": "code",
   "execution_count": null,
   "outputs": [],
   "source": [
    "for malware_user_dir in malware_dir.iterdir():\n",
    "    fig.suptitle(malware_user_dir.name)\n",
    "    ssl_file = malware_user_dir / 'zeek' / 'ssl.log'\n",
    "    ssl = LogToDataFrame().create_dataframe(ssl_file)\n",
    "    plt.figure()\n",
    "    if len(ssl):   \n",
    "        times = ssl.index.to_series()\n",
    "        span = times.max() - times.min()\n",
    "        times.groupby(pd.Grouper(freq='1H')).count().plot(title=f'{malware_user_dir.name}, {span}')"
   ],
   "metadata": {
    "collapsed": false,
    "pycharm": {
     "name": "#%%\n"
    }
   }
  }
 ],
 "metadata": {
  "kernelspec": {
   "display_name": "Python 3 (ipykernel)",
   "language": "python",
   "name": "python3"
  },
  "language_info": {
   "codemirror_mode": {
    "name": "ipython",
    "version": 3
   },
   "file_extension": ".py",
   "mimetype": "text/x-python",
   "name": "python",
   "nbconvert_exporter": "python",
   "pygments_lexer": "ipython3",
   "version": "3.9.6"
  }
 },
 "nbformat": 4,
 "nbformat_minor": 5
}