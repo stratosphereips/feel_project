{
 "cells": [
  {
   "cell_type": "code",
   "execution_count": 149,
   "id": "882f0f9c",
   "metadata": {},
   "outputs": [],
   "source": [
    "import pandas as pd \n",
    "from zat.log_to_dataframe import LogToDataFrame\n",
    "from pathlib import Path\n",
    "from matplotlib import pyplot as plt\n",
    "from collections import defaultdict"
   ]
  },
  {
   "cell_type": "code",
   "execution_count": 2,
   "id": "c6832cc4",
   "metadata": {},
   "outputs": [],
   "source": [
    "data_dir = Path('../../data/Raw').resolve() # change this to match your data directory \n",
    "normal_dir = data_dir / 'Normal'\n",
    "malware_dir = data_dir / 'Malware'\n",
    "user_dir = normal_dir / 'CTU-Normal-44'\n",
    "day_dir = user_dir / 'Day1'"
   ]
  },
  {
   "cell_type": "code",
   "execution_count": 41,
   "id": "3d7675e8",
   "metadata": {},
   "outputs": [],
   "source": [
    "conn_df = LogToDataFrame().create_dataframe(day_dir / 'conn.log.labeled')\n",
    "ssl_df = LogToDataFrame().create_dataframe(day_dir / 'ssl.log.labeled')\n",
    "x509_df = LogToDataFrame().create_dataframe(day_dir / 'x509.log')"
   ]
  },
  {
   "cell_type": "code",
   "execution_count": 62,
   "id": "1d4a4cd8",
   "metadata": {},
   "outputs": [],
   "source": [
    "dt_index = pd.DatetimeIndex(ssl_df.index)\n",
    "ssl_conn_df = ssl_df.set_index('uid').join(conn_df.set_index('uid'), rsuffix='_conn')\n",
    "ssl_conn_df = ssl_conn_df[[col for col in ssl_conn_df.columns if col[-5:] != '_conn']].set_index(dt_index)"
   ]
  },
  {
   "cell_type": "code",
   "execution_count": 153,
   "id": "d9970527",
   "metadata": {},
   "outputs": [],
   "source": [
    "def extract_duration_mean(df_window):\n",
    "    duration_ms = df_window.duration.transform(lambda x: x.total_seconds()) * 1000\n",
    "    return duration_ms.mean()\n",
    "\n",
    "def extract_duration_std(df_window):\n",
    "    duration_ms = df_window.duration.transform(lambda x: x.total_seconds()) * 1000\n",
    "    return duration_ms.std()\n",
    "\n",
    "def extract_ratio_established(df_window):\n",
    "    # Established states from https://docs.zeek.org/en/master/scripts/base/protocols/conn/main.zeek.html\n",
    "    connection_states = defaultdict(lambda: 0, df_window.conn_state.value_counts())\n",
    "    connections_total = sum(connection_states.values())\n",
    "    connections_established = connection_states['S1'] + connection_states['S2'] \\\n",
    "    + connection_states['S3'] + connection_states['SF'] + connection_states['RSTO']\n",
    "    return connections_established / connections_total"
   ]
  },
  {
   "cell_type": "code",
   "execution_count": 154,
   "id": "ace480b7",
   "metadata": {},
   "outputs": [],
   "source": [
    "aggregation_period = '5min'\n",
    "time_window_groups = ssl_conn_df.groupby(pd.Grouper(freq=aggregation_period))"
   ]
  },
  {
   "cell_type": "code",
   "execution_count": 155,
   "id": "68f0d4a2",
   "metadata": {},
   "outputs": [
    {
     "ename": "TypeError",
     "evalue": "first argument must be callable or None",
     "output_type": "error",
     "traceback": [
      "\u001b[0;31m---------------------------------------------------------------------------\u001b[0m",
      "\u001b[0;31mTypeError\u001b[0m                                 Traceback (most recent call last)",
      "File \u001b[0;32m/mnt/appl/software/SciPy-bundle/2021.10-foss-2021b/lib/python3.9/site-packages/pandas/core/groupby/groupby.py:1275\u001b[0m, in \u001b[0;36mGroupBy.apply\u001b[0;34m(self, func, *args, **kwargs)\u001b[0m\n\u001b[1;32m   1274\u001b[0m \u001b[38;5;28;01mtry\u001b[39;00m:\n\u001b[0;32m-> 1275\u001b[0m     result \u001b[38;5;241m=\u001b[39m \u001b[38;5;28;43mself\u001b[39;49m\u001b[38;5;241;43m.\u001b[39;49m\u001b[43m_python_apply_general\u001b[49m\u001b[43m(\u001b[49m\u001b[43mf\u001b[49m\u001b[43m,\u001b[49m\u001b[43m \u001b[49m\u001b[38;5;28;43mself\u001b[39;49m\u001b[38;5;241;43m.\u001b[39;49m\u001b[43m_selected_obj\u001b[49m\u001b[43m)\u001b[49m\n\u001b[1;32m   1276\u001b[0m \u001b[38;5;28;01mexcept\u001b[39;00m \u001b[38;5;167;01mTypeError\u001b[39;00m:\n\u001b[1;32m   1277\u001b[0m     \u001b[38;5;66;03m# gh-20949\u001b[39;00m\n\u001b[1;32m   1278\u001b[0m     \u001b[38;5;66;03m# try again, with .apply acting as a filtering\u001b[39;00m\n\u001b[0;32m   (...)\u001b[0m\n\u001b[1;32m   1282\u001b[0m     \u001b[38;5;66;03m# fails on *some* columns, e.g. a numeric operation\u001b[39;00m\n\u001b[1;32m   1283\u001b[0m     \u001b[38;5;66;03m# on a string grouper column\u001b[39;00m\n",
      "File \u001b[0;32m/mnt/appl/software/SciPy-bundle/2021.10-foss-2021b/lib/python3.9/site-packages/pandas/core/groupby/groupby.py:1309\u001b[0m, in \u001b[0;36mGroupBy._python_apply_general\u001b[0;34m(self, f, data)\u001b[0m\n\u001b[1;32m   1294\u001b[0m \u001b[38;5;124;03m\"\"\"\u001b[39;00m\n\u001b[1;32m   1295\u001b[0m \u001b[38;5;124;03mApply function f in python space\u001b[39;00m\n\u001b[1;32m   1296\u001b[0m \n\u001b[0;32m   (...)\u001b[0m\n\u001b[1;32m   1307\u001b[0m \u001b[38;5;124;03m    data after applying f\u001b[39;00m\n\u001b[1;32m   1308\u001b[0m \u001b[38;5;124;03m\"\"\"\u001b[39;00m\n\u001b[0;32m-> 1309\u001b[0m keys, values, mutated \u001b[38;5;241m=\u001b[39m \u001b[38;5;28;43mself\u001b[39;49m\u001b[38;5;241;43m.\u001b[39;49m\u001b[43mgrouper\u001b[49m\u001b[38;5;241;43m.\u001b[39;49m\u001b[43mapply\u001b[49m\u001b[43m(\u001b[49m\u001b[43mf\u001b[49m\u001b[43m,\u001b[49m\u001b[43m \u001b[49m\u001b[43mdata\u001b[49m\u001b[43m,\u001b[49m\u001b[43m \u001b[49m\u001b[38;5;28;43mself\u001b[39;49m\u001b[38;5;241;43m.\u001b[39;49m\u001b[43maxis\u001b[49m\u001b[43m)\u001b[49m\n\u001b[1;32m   1311\u001b[0m \u001b[38;5;28;01mreturn\u001b[39;00m \u001b[38;5;28mself\u001b[39m\u001b[38;5;241m.\u001b[39m_wrap_applied_output(\n\u001b[1;32m   1312\u001b[0m     data, keys, values, not_indexed_same\u001b[38;5;241m=\u001b[39mmutated \u001b[38;5;129;01mor\u001b[39;00m \u001b[38;5;28mself\u001b[39m\u001b[38;5;241m.\u001b[39mmutated\n\u001b[1;32m   1313\u001b[0m )\n",
      "File \u001b[0;32m/mnt/appl/software/SciPy-bundle/2021.10-foss-2021b/lib/python3.9/site-packages/pandas/core/groupby/ops.py:841\u001b[0m, in \u001b[0;36mBaseGrouper.apply\u001b[0;34m(self, f, data, axis)\u001b[0m\n\u001b[1;32m    840\u001b[0m group_axes \u001b[38;5;241m=\u001b[39m group\u001b[38;5;241m.\u001b[39maxes\n\u001b[0;32m--> 841\u001b[0m res \u001b[38;5;241m=\u001b[39m \u001b[43mf\u001b[49m\u001b[43m(\u001b[49m\u001b[43mgroup\u001b[49m\u001b[43m)\u001b[49m\n\u001b[1;32m    842\u001b[0m \u001b[38;5;28;01mif\u001b[39;00m \u001b[38;5;129;01mnot\u001b[39;00m _is_indexed_like(res, group_axes, axis):\n",
      "Input \u001b[0;32mIn [153]\u001b[0m, in \u001b[0;36mextract_ratio_established\u001b[0;34m(df_window)\u001b[0m\n\u001b[1;32m      9\u001b[0m \u001b[38;5;28;01mdef\u001b[39;00m \u001b[38;5;21mextract_ratio_established\u001b[39m(df_window):\n\u001b[1;32m     10\u001b[0m     \u001b[38;5;66;03m# Established states from https://docs.zeek.org/en/master/scripts/base/protocols/conn/main.zeek.html\u001b[39;00m\n\u001b[0;32m---> 11\u001b[0m     connection_states \u001b[38;5;241m=\u001b[39m \u001b[43mdefaultdict\u001b[49m\u001b[43m(\u001b[49m\u001b[38;5;241;43m0\u001b[39;49m\u001b[43m,\u001b[49m\u001b[43m \u001b[49m\u001b[43mdf_window\u001b[49m\u001b[38;5;241;43m.\u001b[39;49m\u001b[43mconn_state\u001b[49m\u001b[38;5;241;43m.\u001b[39;49m\u001b[43mvalue_counts\u001b[49m\u001b[43m(\u001b[49m\u001b[43m)\u001b[49m\u001b[43m)\u001b[49m\n\u001b[1;32m     12\u001b[0m     connections_total \u001b[38;5;241m=\u001b[39m \u001b[38;5;28msum\u001b[39m(connection_states\u001b[38;5;241m.\u001b[39mvalues())\n",
      "\u001b[0;31mTypeError\u001b[0m: first argument must be callable or None",
      "\nDuring handling of the above exception, another exception occurred:\n",
      "\u001b[0;31mTypeError\u001b[0m                                 Traceback (most recent call last)",
      "Input \u001b[0;32mIn [155]\u001b[0m, in \u001b[0;36m<cell line: 10>\u001b[0;34m()\u001b[0m\n\u001b[1;32m      8\u001b[0m processed_df[\u001b[38;5;124m'\u001b[39m\u001b[38;5;124mresponder_sent_bytes\u001b[39m\u001b[38;5;124m'\u001b[39m] \u001b[38;5;241m=\u001b[39m time_window_groups[\u001b[38;5;124m'\u001b[39m\u001b[38;5;124mresp_ip_bytes\u001b[39m\u001b[38;5;124m'\u001b[39m]\u001b[38;5;241m.\u001b[39msum() \n\u001b[1;32m      9\u001b[0m processed_df[\u001b[38;5;124m'\u001b[39m\u001b[38;5;124mresponder_bytes_ratio\u001b[39m\u001b[38;5;124m'\u001b[39m] \u001b[38;5;241m=\u001b[39m processed_df[\u001b[38;5;124m'\u001b[39m\u001b[38;5;124mresponder_sent_bytes\u001b[39m\u001b[38;5;124m'\u001b[39m] \u001b[38;5;241m/\u001b[39m (processed_df[\u001b[38;5;124m'\u001b[39m\u001b[38;5;124moriginator_sent_bytes\u001b[39m\u001b[38;5;124m'\u001b[39m] \u001b[38;5;241m+\u001b[39m  processed_df[\u001b[38;5;124m'\u001b[39m\u001b[38;5;124mresponder_sent_bytes\u001b[39m\u001b[38;5;124m'\u001b[39m]) \n\u001b[0;32m---> 10\u001b[0m processed_df[\u001b[38;5;124m'\u001b[39m\u001b[38;5;124mconnection_established_ratio\u001b[39m\u001b[38;5;124m'\u001b[39m] \u001b[38;5;241m=\u001b[39m \u001b[43mtime_window_groups\u001b[49m\u001b[38;5;241;43m.\u001b[39;49m\u001b[43mapply\u001b[49m\u001b[43m(\u001b[49m\u001b[43mextract_ratio_established\u001b[49m\u001b[43m)\u001b[49m\n\u001b[1;32m     12\u001b[0m processed_df\n",
      "File \u001b[0;32m/mnt/appl/software/SciPy-bundle/2021.10-foss-2021b/lib/python3.9/site-packages/pandas/core/groupby/groupby.py:1286\u001b[0m, in \u001b[0;36mGroupBy.apply\u001b[0;34m(self, func, *args, **kwargs)\u001b[0m\n\u001b[1;32m   1276\u001b[0m     \u001b[38;5;28;01mexcept\u001b[39;00m \u001b[38;5;167;01mTypeError\u001b[39;00m:\n\u001b[1;32m   1277\u001b[0m         \u001b[38;5;66;03m# gh-20949\u001b[39;00m\n\u001b[1;32m   1278\u001b[0m         \u001b[38;5;66;03m# try again, with .apply acting as a filtering\u001b[39;00m\n\u001b[0;32m   (...)\u001b[0m\n\u001b[1;32m   1282\u001b[0m         \u001b[38;5;66;03m# fails on *some* columns, e.g. a numeric operation\u001b[39;00m\n\u001b[1;32m   1283\u001b[0m         \u001b[38;5;66;03m# on a string grouper column\u001b[39;00m\n\u001b[1;32m   1285\u001b[0m         \u001b[38;5;28;01mwith\u001b[39;00m group_selection_context(\u001b[38;5;28mself\u001b[39m):\n\u001b[0;32m-> 1286\u001b[0m             \u001b[38;5;28;01mreturn\u001b[39;00m \u001b[38;5;28;43mself\u001b[39;49m\u001b[38;5;241;43m.\u001b[39;49m\u001b[43m_python_apply_general\u001b[49m\u001b[43m(\u001b[49m\u001b[43mf\u001b[49m\u001b[43m,\u001b[49m\u001b[43m \u001b[49m\u001b[38;5;28;43mself\u001b[39;49m\u001b[38;5;241;43m.\u001b[39;49m\u001b[43m_selected_obj\u001b[49m\u001b[43m)\u001b[49m\n\u001b[1;32m   1288\u001b[0m \u001b[38;5;28;01mreturn\u001b[39;00m result\n",
      "File \u001b[0;32m/mnt/appl/software/SciPy-bundle/2021.10-foss-2021b/lib/python3.9/site-packages/pandas/core/groupby/groupby.py:1309\u001b[0m, in \u001b[0;36mGroupBy._python_apply_general\u001b[0;34m(self, f, data)\u001b[0m\n\u001b[1;32m   1290\u001b[0m \u001b[38;5;129m@final\u001b[39m\n\u001b[1;32m   1291\u001b[0m \u001b[38;5;28;01mdef\u001b[39;00m \u001b[38;5;21m_python_apply_general\u001b[39m(\n\u001b[1;32m   1292\u001b[0m     \u001b[38;5;28mself\u001b[39m, f: F, data: FrameOrSeriesUnion\n\u001b[1;32m   1293\u001b[0m ) \u001b[38;5;241m-\u001b[39m\u001b[38;5;241m>\u001b[39m FrameOrSeriesUnion:\n\u001b[1;32m   1294\u001b[0m     \u001b[38;5;124;03m\"\"\"\u001b[39;00m\n\u001b[1;32m   1295\u001b[0m \u001b[38;5;124;03m    Apply function f in python space\u001b[39;00m\n\u001b[1;32m   1296\u001b[0m \n\u001b[0;32m   (...)\u001b[0m\n\u001b[1;32m   1307\u001b[0m \u001b[38;5;124;03m        data after applying f\u001b[39;00m\n\u001b[1;32m   1308\u001b[0m \u001b[38;5;124;03m    \"\"\"\u001b[39;00m\n\u001b[0;32m-> 1309\u001b[0m     keys, values, mutated \u001b[38;5;241m=\u001b[39m \u001b[38;5;28;43mself\u001b[39;49m\u001b[38;5;241;43m.\u001b[39;49m\u001b[43mgrouper\u001b[49m\u001b[38;5;241;43m.\u001b[39;49m\u001b[43mapply\u001b[49m\u001b[43m(\u001b[49m\u001b[43mf\u001b[49m\u001b[43m,\u001b[49m\u001b[43m \u001b[49m\u001b[43mdata\u001b[49m\u001b[43m,\u001b[49m\u001b[43m \u001b[49m\u001b[38;5;28;43mself\u001b[39;49m\u001b[38;5;241;43m.\u001b[39;49m\u001b[43maxis\u001b[49m\u001b[43m)\u001b[49m\n\u001b[1;32m   1311\u001b[0m     \u001b[38;5;28;01mreturn\u001b[39;00m \u001b[38;5;28mself\u001b[39m\u001b[38;5;241m.\u001b[39m_wrap_applied_output(\n\u001b[1;32m   1312\u001b[0m         data, keys, values, not_indexed_same\u001b[38;5;241m=\u001b[39mmutated \u001b[38;5;129;01mor\u001b[39;00m \u001b[38;5;28mself\u001b[39m\u001b[38;5;241m.\u001b[39mmutated\n\u001b[1;32m   1313\u001b[0m     )\n",
      "File \u001b[0;32m/mnt/appl/software/SciPy-bundle/2021.10-foss-2021b/lib/python3.9/site-packages/pandas/core/groupby/ops.py:841\u001b[0m, in \u001b[0;36mBaseGrouper.apply\u001b[0;34m(self, f, data, axis)\u001b[0m\n\u001b[1;32m    839\u001b[0m \u001b[38;5;66;03m# group might be modified\u001b[39;00m\n\u001b[1;32m    840\u001b[0m group_axes \u001b[38;5;241m=\u001b[39m group\u001b[38;5;241m.\u001b[39maxes\n\u001b[0;32m--> 841\u001b[0m res \u001b[38;5;241m=\u001b[39m \u001b[43mf\u001b[49m\u001b[43m(\u001b[49m\u001b[43mgroup\u001b[49m\u001b[43m)\u001b[49m\n\u001b[1;32m    842\u001b[0m \u001b[38;5;28;01mif\u001b[39;00m \u001b[38;5;129;01mnot\u001b[39;00m _is_indexed_like(res, group_axes, axis):\n\u001b[1;32m    843\u001b[0m     mutated \u001b[38;5;241m=\u001b[39m \u001b[38;5;28;01mTrue\u001b[39;00m\n",
      "Input \u001b[0;32mIn [153]\u001b[0m, in \u001b[0;36mextract_ratio_established\u001b[0;34m(df_window)\u001b[0m\n\u001b[1;32m      9\u001b[0m \u001b[38;5;28;01mdef\u001b[39;00m \u001b[38;5;21mextract_ratio_established\u001b[39m(df_window):\n\u001b[1;32m     10\u001b[0m     \u001b[38;5;66;03m# Established states from https://docs.zeek.org/en/master/scripts/base/protocols/conn/main.zeek.html\u001b[39;00m\n\u001b[0;32m---> 11\u001b[0m     connection_states \u001b[38;5;241m=\u001b[39m \u001b[43mdefaultdict\u001b[49m\u001b[43m(\u001b[49m\u001b[38;5;241;43m0\u001b[39;49m\u001b[43m,\u001b[49m\u001b[43m \u001b[49m\u001b[43mdf_window\u001b[49m\u001b[38;5;241;43m.\u001b[39;49m\u001b[43mconn_state\u001b[49m\u001b[38;5;241;43m.\u001b[39;49m\u001b[43mvalue_counts\u001b[49m\u001b[43m(\u001b[49m\u001b[43m)\u001b[49m\u001b[43m)\u001b[49m\n\u001b[1;32m     12\u001b[0m     connections_total \u001b[38;5;241m=\u001b[39m \u001b[38;5;28msum\u001b[39m(connection_states\u001b[38;5;241m.\u001b[39mvalues())\n\u001b[1;32m     13\u001b[0m     connections_established \u001b[38;5;241m=\u001b[39m connection_states[\u001b[38;5;124m'\u001b[39m\u001b[38;5;124mS1\u001b[39m\u001b[38;5;124m'\u001b[39m] \u001b[38;5;241m+\u001b[39m connection_states[\u001b[38;5;124m'\u001b[39m\u001b[38;5;124mS2\u001b[39m\u001b[38;5;124m'\u001b[39m] \\\n\u001b[1;32m     14\u001b[0m     \u001b[38;5;241m+\u001b[39m connection_states[\u001b[38;5;124m'\u001b[39m\u001b[38;5;124mS3\u001b[39m\u001b[38;5;124m'\u001b[39m] \u001b[38;5;241m+\u001b[39m connection_states[\u001b[38;5;124m'\u001b[39m\u001b[38;5;124mSF\u001b[39m\u001b[38;5;124m'\u001b[39m] \u001b[38;5;241m+\u001b[39m connection_states[\u001b[38;5;124m'\u001b[39m\u001b[38;5;124mRSTO\u001b[39m\u001b[38;5;124m'\u001b[39m]\n",
      "\u001b[0;31mTypeError\u001b[0m: first argument must be callable or None"
     ]
    }
   ],
   "source": [
    "processed_df = pd.DataFrame(time_window_groups.apply(len), columns=['count_flows'])\n",
    "processed_df['duration_mean'] = time_window_groups.apply(extract_duration_mean)\n",
    "processed_df['duration_std'] = time_window_groups.apply(extract_duration_std)\n",
    "# the paper also has percent sd of duration which I would interpret as percentage of flows, \n",
    "# with duration with more than 1 sd from mean (z-score > 1). I don't know if it makes sense.\n",
    "# Might implement it later\n",
    "processed_df['originator_sent_bytes'] = time_window_groups['orig_ip_bytes'].sum() # log this might make more sense\n",
    "processed_df['responder_sent_bytes'] = time_window_groups['resp_ip_bytes'].sum() \n",
    "processed_df['responder_bytes_ratio'] = processed_df['responder_sent_bytes'] / (processed_df['originator_sent_bytes'] +  processed_df['responder_sent_bytes']) \n",
    "processed_df['connection_established_ratio'] = time_window_groups.apply(extract_ratio_established)\n",
    "\n",
    "processed_df"
   ]
  },
  {
   "cell_type": "code",
   "execution_count": 145,
   "id": "89cb5e6c",
   "metadata": {},
   "outputs": [
    {
     "data": {
      "text/plain": [
       "ts\n",
       "2022-06-20 21:59:21.882370048    OTH\n",
       "2022-06-20 22:01:23.278179840     S0\n",
       "2022-06-20 22:01:53.666543104     S0\n",
       "2022-06-20 22:02:02.465136128     S0\n",
       "2022-06-20 22:02:16.730578944     S0\n",
       "                                ... \n",
       "2022-06-21 21:56:24.286155008     S0\n",
       "2022-06-21 21:57:11.715123968     S0\n",
       "2022-06-21 21:58:03.645000960     S0\n",
       "2022-06-21 21:58:18.419059968     S0\n",
       "2022-06-21 21:58:45.058067968     S0\n",
       "Name: conn_state, Length: 6081, dtype: category\n",
       "Categories (13, object): ['OTH', 'REJ', 'RSTO', 'RSTOS0', ..., 'S3', 'SF', 'SH', 'SHR']"
      ]
     },
     "execution_count": 145,
     "metadata": {},
     "output_type": "execute_result"
    }
   ],
   "source": [
    "conn_df.columns\n"
   ]
  },
  {
   "cell_type": "code",
   "execution_count": 148,
   "id": "dab15977",
   "metadata": {},
   "outputs": [
    {
     "data": {
      "text/plain": [
       "{'S0': 3351,\n",
       " 'SF': 1291,\n",
       " 'RSTR': 411,\n",
       " 'OTH': 308,\n",
       " 'S1': 161,\n",
       " 'S3': 146,\n",
       " 'S2': 106,\n",
       " 'RSTO': 100,\n",
       " 'SH': 88,\n",
       " 'SHR': 63,\n",
       " 'RSTRH': 27,\n",
       " 'RSTOS0': 19,\n",
       " 'REJ': 10}"
      ]
     },
     "execution_count": 148,
     "metadata": {},
     "output_type": "execute_result"
    }
   ],
   "source": [
    "dict(conn_df.conn_state.value_counts())"
   ]
  },
  {
   "cell_type": "code",
   "execution_count": null,
   "id": "e2b15899",
   "metadata": {},
   "outputs": [],
   "source": []
  }
 ],
 "metadata": {
  "kernelspec": {
   "display_name": "Python 3 (ipykernel)",
   "language": "python",
   "name": "python3"
  },
  "language_info": {
   "codemirror_mode": {
    "name": "ipython",
    "version": 3
   },
   "file_extension": ".py",
   "mimetype": "text/x-python",
   "name": "python",
   "nbconvert_exporter": "python",
   "pygments_lexer": "ipython3",
   "version": "3.9.6"
  }
 },
 "nbformat": 4,
 "nbformat_minor": 5
}
