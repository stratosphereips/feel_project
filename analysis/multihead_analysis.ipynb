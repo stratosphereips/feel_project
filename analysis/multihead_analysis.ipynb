{
 "cells": [
  {
   "cell_type": "code",
   "execution_count": 1,
   "metadata": {
    "collapsed": true
   },
   "outputs": [
    {
     "name": "stderr",
     "output_type": "stream",
     "text": [
      "2022-11-14 14:14:09.630237: W tensorflow/stream_executor/platform/default/dso_loader.cc:64] Could not load dynamic library 'libcudart.so.11.0'; dlerror: libcudart.so.11.0: cannot open shared object file: No such file or directory\n",
      "2022-11-14 14:14:09.630323: I tensorflow/stream_executor/cuda/cudart_stub.cc:29] Ignore above cudart dlerror if you do not have a GPU set up on your machine.\n"
     ]
    }
   ],
   "source": [
    "import pickle\n",
    "\n",
    "import tensorflow as tf\n",
    "from pathlib import Path\n",
    "import pandas as pd\n",
    "import matplotlib\n",
    "import matplotlib.pyplot as plt\n",
    "import umap\n",
    "from common.models import AutoEncoder, Encoder, Decoder, MultiHeadAutoEncoder\n",
    "from common.data_loading import load_all_data\n",
    "import numpy as np\n",
    "from sklearn.metrics import confusion_matrix"
   ]
  },
  {
   "cell_type": "code",
   "execution_count": 2,
   "outputs": [],
   "source": [
    "X_train, X_val, X_test, y_train, y_val, y_test = load_all_data(1, Path('../data'))"
   ],
   "metadata": {
    "collapsed": false
   }
  },
  {
   "cell_type": "code",
   "execution_count": 3,
   "outputs": [
    {
     "name": "stderr",
     "output_type": "stream",
     "text": [
      "2022-11-14 14:14:23.461824: W tensorflow/stream_executor/platform/default/dso_loader.cc:64] Could not load dynamic library 'libcuda.so.1'; dlerror: libcuda.so.1: cannot open shared object file: No such file or directory\n",
      "2022-11-14 14:14:23.461882: W tensorflow/stream_executor/cuda/cuda_driver.cc:269] failed call to cuInit: UNKNOWN ERROR (303)\n",
      "2022-11-14 14:14:23.461920: I tensorflow/stream_executor/cuda/cuda_diagnostics.cc:156] kernel driver does not appear to be running on this host (matterhorn): /proc/driver/nvidia/version does not exist\n",
      "2022-11-14 14:14:23.462477: I tensorflow/core/platform/cpu_feature_guard.cc:193] This TensorFlow binary is optimized with oneAPI Deep Neural Network Library (oneDNN) to use the following CPU instructions in performance-critical operations:  AVX2 FMA\n",
      "To enable them in other operations, rebuild TensorFlow with the appropriate compiler flags.\n"
     ]
    }
   ],
   "source": [
    "model = MultiHeadAutoEncoder()\n",
    "model(np.zeros((16, 37)))\n",
    "model.load_weights('../supervised_detection/day1_420_model.h5')\n",
    "with open('../supervised_detection/day1_420_spheres.h5', 'rb') as f:\n",
    "    spheres = pickle.load(f)\n",
    "with open('../supervised_detection/round-1-scaler.pckl', 'rb') as f:\n",
    "    scaler = pickle.load(f)"
   ],
   "metadata": {
    "collapsed": false
   }
  },
  {
   "cell_type": "code",
   "execution_count": 4,
   "outputs": [],
   "source": [
    "X_test_ = scaler.transform(X_train)\n",
    "embeded = model.embed(X_test_)"
   ],
   "metadata": {
    "collapsed": false
   }
  },
  {
   "cell_type": "code",
   "execution_count": 6,
   "outputs": [
    {
     "data": {
      "text/plain": "<tf.Tensor: shape=(5249, 10), dtype=float32, numpy=\narray([[4.25865389e-02, 2.26102144e-04, 5.99537373e-01, ...,\n        4.31183842e-04, 8.99521708e-01, 2.52022408e-02],\n       [3.18743773e-02, 1.23728139e-04, 5.77382445e-01, ...,\n        2.88824434e-04, 9.29185450e-01, 3.17197368e-02],\n       [2.77825519e-02, 1.03448285e-04, 5.83354414e-01, ...,\n        3.05593014e-04, 9.46988583e-01, 3.97177301e-02],\n       ...,\n       [4.26076017e-02, 2.26355391e-04, 5.99567592e-01, ...,\n        4.31274122e-04, 8.99440050e-01, 2.51864698e-02],\n       [4.26190868e-02, 2.26393342e-04, 5.99605501e-01, ...,\n        4.31013730e-04, 8.99357736e-01, 2.51677558e-02],\n       [3.57593186e-02, 1.33852634e-04, 5.87519705e-01, ...,\n        2.48289522e-04, 9.13778126e-01, 2.55897418e-02]], dtype=float32)>"
     },
     "execution_count": 6,
     "metadata": {},
     "output_type": "execute_result"
    }
   ],
   "source": [
    "embeded"
   ],
   "metadata": {
    "collapsed": false
   }
  },
  {
   "cell_type": "code",
   "execution_count": 17,
   "outputs": [],
   "source": [
    "y_preds = []\n",
    "for client_spheres in spheres.values():\n",
    "    if 1.0 in client_spheres:\n",
    "        centroid, radius = client_spheres[1.0]\n",
    "        dist = np.linalg.norm(embeded - centroid, axis=1)\n",
    "        y_preds.append(dist < radius)"
   ],
   "metadata": {
    "collapsed": false
   }
  },
  {
   "cell_type": "code",
   "execution_count": 18,
   "outputs": [
    {
     "data": {
      "text/plain": "0.9348447323299676"
     },
     "execution_count": 18,
     "metadata": {},
     "output_type": "execute_result"
    }
   ],
   "source": [
    "(np.array(y_preds).any(axis=0).astype(np.float32) == y_train).mean()"
   ],
   "metadata": {
    "collapsed": false
   }
  },
  {
   "cell_type": "code",
   "execution_count": 19,
   "outputs": [
    {
     "data": {
      "text/plain": "array([[4905,  142],\n       [ 200,    2]])"
     },
     "execution_count": 19,
     "metadata": {},
     "output_type": "execute_result"
    }
   ],
   "source": [
    "confusion_matrix(y_train, np.array(y_preds).any(axis=0).astype(np.float32))"
   ],
   "metadata": {
    "collapsed": false
   }
  },
  {
   "cell_type": "code",
   "execution_count": 20,
   "outputs": [
    {
     "data": {
      "text/plain": "{1: {0.0: (array([ 0.17688444, -0.21995965,  0.23534077, -0.01777917,  0.97534254,\n           0.66377403,  0.16445086, -0.10040791,  1.17353539,  0.11898378]),\n   0.47605368196964265),\n  1.0: (array([ 3.00545011e-02, -5.88514969e-02,  5.20450648e-01, -6.38714314e-02,\n           9.10760128e-01,  5.86690503e-01, -8.15185189e-04,  5.04501591e-02,\n           8.67433397e-01,  4.50651897e-02]),\n   0.14599188268184662)},\n 2: {0.0: (array([ 0.21223693, -0.26304423,  0.24435   , -0.02119259,  0.97161306,\n           0.72780346,  0.19666324, -0.1202048 ,  1.21712161,  0.12513712]),\n   0.5693001419305801),\n  1.0: (array([ 1.24858955e-02, -5.47781779e-02,  5.48725124e-01, -6.00185898e-02,\n           9.37196907e-01,  3.98141121e-01, -7.59843174e-04,  4.75749187e-02,\n           8.64563030e-01,  5.87021076e-02]),\n   0.13586377575993538)},\n 3: {0.0: (array([ 0.19637828, -0.23213259,  0.32038382, -0.01839613,  0.97018388,\n           0.74320647,  0.17357487, -0.10604476,  1.18972816,  0.11830305]),\n   0.502428513765335),\n  1.0: (array([ 2.08208482e-02, -4.85298634e-02,  6.23541240e-01, -5.28633295e-02,\n           9.38254778e-01,  5.40292958e-01, -6.44893845e-04,  4.22802185e-02,\n           9.19264681e-01,  8.46593026e-02]),\n   0.12043105103075505)},\n 4: {0.0: (array([ 0.1916446 , -0.2344336 ,  0.23680145, -0.01871515,  0.97291462,\n           0.70237804,  0.17528966, -0.10709918,  1.18004709,  0.11282654]),\n   0.5074040740728378),\n  1.0: (array([ 2.95953074e-02, -4.58759336e-02,  5.30782852e-01, -4.94217741e-02,\n           9.26989897e-01,  5.88815815e-01, -6.22133286e-04,  3.94113572e-02,\n           8.81649448e-01,  4.21749006e-02]),\n   0.11385260280221701)},\n 5: {0.0: (array([ 0.19265689, -0.23507996,  0.2392213 , -0.01879566,  0.97571429,\n           0.70418495,  0.17577455, -0.10733503,  1.17160155,  0.11297985]),\n   0.5088046297430993),\n  1.0: (array([ 1.30805821e-02, -5.31578043e-02,  5.29032813e-01, -5.81357697e-02,\n           9.39615391e-01,  4.07707982e-01, -7.19965245e-04,  4.65740991e-02,\n           7.77678707e-01,  4.32065065e-02]),\n   0.13189440816640854)},\n 6: {0.0: (array([-0.1856279 , -0.03985854,  0.41971542,  0.23020197,  0.74709468,\n           0.40832483, -0.11521954, -0.07913497,  1.07738917, -0.08569452]),\n   0.5218809574842453)},\n 7: {0.0: (array([-0.13724017, -0.02985759,  0.38248694,  0.17291197,  0.80384073,\n           0.50278973, -0.08634208, -0.05917804,  1.04458534, -0.05358545]),\n   0.3911217480897904)},\n 8: {0.0: (array([-0.17889414, -0.03852642,  0.43552559,  0.22235487,  0.75125902,\n           0.40681142, -0.11136909, -0.07646486,  1.07598593, -0.07775648]),\n   0.5044485971331596)},\n 9: {0.0: (array([-0.20603637, -0.04340559,  0.41768271,  0.25041226,  0.7270427 ,\n           0.38036896, -0.12546879, -0.08613912,  1.08583526, -0.10072839]),\n   0.5683089226484299)},\n 10: {0.0: (array([-0.15640337, -0.03454566,  0.45344013,  0.19950058,  0.77396513,\n           0.42724303, -0.09986364, -0.06856994,  1.06749825, -0.06138744]),\n   0.4523241564631462)}}"
     },
     "execution_count": 20,
     "metadata": {},
     "output_type": "execute_result"
    }
   ],
   "source": [
    "spheres"
   ],
   "metadata": {
    "collapsed": false
   }
  },
  {
   "cell_type": "code",
   "execution_count": 7,
   "outputs": [],
   "source": [
    "embeded\n",
    "y_preds = []\n",
    "y_pred_pos = []\n",
    "for client_spheres in spheres.values():\n",
    "    if 1.0 in client_spheres:\n",
    "        centroid, radius = client_spheres[1.0]\n",
    "        dist = np.linalg.norm(embeded - centroid, axis=1)\n",
    "        y_preds.append(dist < radius)\n",
    "\n",
    "    centroid, radius = client_spheres[0.0]\n",
    "    dist = np.linalg.norm(embeded - centroid, axis=1)\n",
    "    y_pred_pos.append(dist > radius)"
   ],
   "metadata": {
    "collapsed": false
   }
  },
  {
   "cell_type": "code",
   "execution_count": 41,
   "outputs": [
    {
     "data": {
      "text/plain": "0.9615164793293961"
     },
     "execution_count": 41,
     "metadata": {},
     "output_type": "execute_result"
    }
   ],
   "source": [
    "(~(np.array(y_pred_pos).mean(axis=0) > 0.4) == y_train).mean()"
   ],
   "metadata": {
    "collapsed": false
   }
  },
  {
   "cell_type": "code",
   "execution_count": 10,
   "outputs": [],
   "source": [
    "_epsilon = 1e-9\n",
    "def compute_positive_loss(spheres, embedding):\n",
    "    cls_losses = np.zeros((embedding.shape[0], 2))\n",
    "    for client in spheres.values():\n",
    "        for cls, (center, radius) in client.items():\n",
    "            x = embedding\n",
    "            safe_norm = np.sqrt(\n",
    "                np.square(x - center).sum(axis=1) + _epsilon\n",
    "            )\n",
    "            dist = safe_norm #tf.norm(x - center, ord='euclidean', axis=1)\n",
    "            # dist = tf.clip_by_value(dist, 0, tf.float32.max)\n",
    "            cls_losses[:, int(cls)] += dist #tf.math.reduce_sum(dist, axis=1)\n",
    "    return cls_losses\n",
    "\n",
    "def compute_negative_loss(spheres, embedding):\n",
    "    cls_losses = np.zeros((embedding.shape[0], 2))\n",
    "    for client in spheres.values():\n",
    "        for cls, (center, radius) in client.items():\n",
    "            x_neg = embedding\n",
    "            safe_norm = np.sqrt(\n",
    "                np.square(x_neg - center).sum(axis=1) + _epsilon\n",
    "            )\n",
    "            dist = radius - safe_norm #tf.norm(x_neg - center, ord='euclidean', axis=1)\n",
    "            dist = np.clip(dist, 0, tf.float32.max)\n",
    "            #dist = tf.math.square(dist)\n",
    "            cls_losses[:, int(cls)] += dist #tf.math.reduce_sum(dist, axis=1)\n",
    "    return cls_losses\n",
    "neg_loss = compute_negative_loss(spheres, embeded)\n",
    "pos_loss = compute_positive_loss(spheres, embeded)\n",
    "\n",
    "loss = neg_loss + pos_loss\n"
   ],
   "metadata": {
    "collapsed": false
   }
  },
  {
   "cell_type": "code",
   "execution_count": 18,
   "outputs": [
    {
     "data": {
      "text/plain": "0.9392794853897113"
     },
     "execution_count": 18,
     "metadata": {},
     "output_type": "execute_result"
    }
   ],
   "source": [
    "from sklearn.metrics import roc_auc_score\n",
    "roc_auc_score(y_train, -loss[:, 1])"
   ],
   "metadata": {
    "collapsed": false
   }
  },
  {
   "cell_type": "code",
   "execution_count": 30,
   "outputs": [
    {
     "data": {
      "text/plain": "5.507546514710437"
     },
     "execution_count": 30,
     "metadata": {},
     "output_type": "execute_result"
    }
   ],
   "source": [
    "loss[y_train==0.0, 0].mean()"
   ],
   "metadata": {
    "collapsed": false
   }
  },
  {
   "cell_type": "code",
   "execution_count": null,
   "outputs": [],
   "source": [],
   "metadata": {
    "collapsed": false
   }
  }
 ],
 "metadata": {
  "kernelspec": {
   "display_name": "Python 3",
   "language": "python",
   "name": "python3"
  },
  "language_info": {
   "codemirror_mode": {
    "name": "ipython",
    "version": 2
   },
   "file_extension": ".py",
   "mimetype": "text/x-python",
   "name": "python",
   "nbconvert_exporter": "python",
   "pygments_lexer": "ipython2",
   "version": "2.7.6"
  }
 },
 "nbformat": 4,
 "nbformat_minor": 0
}
