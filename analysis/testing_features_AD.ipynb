{
 "cells": [
  {
   "cell_type": "code",
   "execution_count": 1,
   "id": "c9698e08",
   "metadata": {},
   "outputs": [],
   "source": [
    "import pandas as pd\n",
    "import numpy as np\n",
    "import matplotlib.pyplot as plt\n",
    "import os"
   ]
  },
  {
   "cell_type": "code",
   "execution_count": 2,
   "id": "3094fee1",
   "metadata": {},
   "outputs": [],
   "source": [
    "data_dir = '/opt/Malware-Project/BigDataset/FEELScenarios/'"
   ]
  },
  {
   "cell_type": "code",
   "execution_count": 29,
   "id": "9d6cc080",
   "metadata": {},
   "outputs": [
    {
     "data": {
      "text/html": [
       "<div>\n",
       "<style scoped>\n",
       "    .dataframe tbody tr th:only-of-type {\n",
       "        vertical-align: middle;\n",
       "    }\n",
       "\n",
       "    .dataframe tbody tr th {\n",
       "        vertical-align: top;\n",
       "    }\n",
       "\n",
       "    .dataframe thead th {\n",
       "        text-align: right;\n",
       "    }\n",
       "</style>\n",
       "<table border=\"1\" class=\"dataframe\">\n",
       "  <thead>\n",
       "    <tr style=\"text-align: right;\">\n",
       "      <th></th>\n",
       "      <th>num_flows</th>\n",
       "      <th>avg_dur</th>\n",
       "      <th>std_dev_dur</th>\n",
       "      <th>percent_stdev_dur</th>\n",
       "      <th>total_size_of_flows_orig</th>\n",
       "      <th>total_size_of_flows_resp</th>\n",
       "      <th>ratio_of_sizes</th>\n",
       "      <th>percent_of_established_states</th>\n",
       "      <th>inbound_pckts</th>\n",
       "      <th>outbound_pckts</th>\n",
       "      <th>...</th>\n",
       "      <th>ratio_of_differ_subject_in_cert</th>\n",
       "      <th>ratio_of_differ_issuer_in_cert</th>\n",
       "      <th>ratio_of_differ_sandns_in_cert</th>\n",
       "      <th>ratio_of_same_subjects</th>\n",
       "      <th>ratio_of_same_issuer</th>\n",
       "      <th>ratio_is_same_CN_and_SNI</th>\n",
       "      <th>avg_certificate_exponent</th>\n",
       "      <th>is_SNI_in_top_level_domain</th>\n",
       "      <th>ratio_certificate_path_error</th>\n",
       "      <th>ratio_missing_cert_in_cert_path</th>\n",
       "    </tr>\n",
       "  </thead>\n",
       "  <tbody>\n",
       "    <tr>\n",
       "      <th>0</th>\n",
       "      <td>1.0</td>\n",
       "      <td>445.491201</td>\n",
       "      <td>0.000000</td>\n",
       "      <td>0.000000</td>\n",
       "      <td>53020.0</td>\n",
       "      <td>24888.0</td>\n",
       "      <td>0.469408</td>\n",
       "      <td>1.000000</td>\n",
       "      <td>261.0</td>\n",
       "      <td>275.0</td>\n",
       "      <td>...</td>\n",
       "      <td>-1.0</td>\n",
       "      <td>-1.0</td>\n",
       "      <td>-1.0</td>\n",
       "      <td>-1.0</td>\n",
       "      <td>-1.0</td>\n",
       "      <td>-1.0</td>\n",
       "      <td>-1.0</td>\n",
       "      <td>0.0</td>\n",
       "      <td>-1.0</td>\n",
       "      <td>-1.0</td>\n",
       "    </tr>\n",
       "    <tr>\n",
       "      <th>1</th>\n",
       "      <td>41.0</td>\n",
       "      <td>63.753415</td>\n",
       "      <td>36.536303</td>\n",
       "      <td>0.414634</td>\n",
       "      <td>36933.0</td>\n",
       "      <td>175896.0</td>\n",
       "      <td>4.762570</td>\n",
       "      <td>1.000000</td>\n",
       "      <td>1602.0</td>\n",
       "      <td>1801.0</td>\n",
       "      <td>...</td>\n",
       "      <td>-1.0</td>\n",
       "      <td>-1.0</td>\n",
       "      <td>-1.0</td>\n",
       "      <td>-1.0</td>\n",
       "      <td>-1.0</td>\n",
       "      <td>-1.0</td>\n",
       "      <td>-1.0</td>\n",
       "      <td>0.0</td>\n",
       "      <td>-1.0</td>\n",
       "      <td>-1.0</td>\n",
       "    </tr>\n",
       "    <tr>\n",
       "      <th>2</th>\n",
       "      <td>3.0</td>\n",
       "      <td>15.502029</td>\n",
       "      <td>21.911534</td>\n",
       "      <td>0.333333</td>\n",
       "      <td>646.0</td>\n",
       "      <td>2643.0</td>\n",
       "      <td>4.091331</td>\n",
       "      <td>0.000000</td>\n",
       "      <td>12.0</td>\n",
       "      <td>13.0</td>\n",
       "      <td>...</td>\n",
       "      <td>-1.0</td>\n",
       "      <td>-1.0</td>\n",
       "      <td>-1.0</td>\n",
       "      <td>-1.0</td>\n",
       "      <td>-1.0</td>\n",
       "      <td>-1.0</td>\n",
       "      <td>-1.0</td>\n",
       "      <td>0.0</td>\n",
       "      <td>-1.0</td>\n",
       "      <td>-1.0</td>\n",
       "    </tr>\n",
       "    <tr>\n",
       "      <th>3</th>\n",
       "      <td>1.0</td>\n",
       "      <td>10.579209</td>\n",
       "      <td>0.000000</td>\n",
       "      <td>0.000000</td>\n",
       "      <td>1910.0</td>\n",
       "      <td>6732.0</td>\n",
       "      <td>3.524607</td>\n",
       "      <td>1.000000</td>\n",
       "      <td>15.0</td>\n",
       "      <td>22.0</td>\n",
       "      <td>...</td>\n",
       "      <td>-1.0</td>\n",
       "      <td>-1.0</td>\n",
       "      <td>-1.0</td>\n",
       "      <td>-1.0</td>\n",
       "      <td>-1.0</td>\n",
       "      <td>-1.0</td>\n",
       "      <td>-1.0</td>\n",
       "      <td>0.0</td>\n",
       "      <td>-1.0</td>\n",
       "      <td>-1.0</td>\n",
       "    </tr>\n",
       "    <tr>\n",
       "      <th>4</th>\n",
       "      <td>3.0</td>\n",
       "      <td>143.061461</td>\n",
       "      <td>133.159468</td>\n",
       "      <td>0.333333</td>\n",
       "      <td>4676.0</td>\n",
       "      <td>236240.0</td>\n",
       "      <td>50.521814</td>\n",
       "      <td>0.666667</td>\n",
       "      <td>92.0</td>\n",
       "      <td>108.0</td>\n",
       "      <td>...</td>\n",
       "      <td>-1.0</td>\n",
       "      <td>-1.0</td>\n",
       "      <td>-1.0</td>\n",
       "      <td>-1.0</td>\n",
       "      <td>-1.0</td>\n",
       "      <td>-1.0</td>\n",
       "      <td>-1.0</td>\n",
       "      <td>0.0</td>\n",
       "      <td>-1.0</td>\n",
       "      <td>-1.0</td>\n",
       "    </tr>\n",
       "  </tbody>\n",
       "</table>\n",
       "<p>5 rows × 41 columns</p>\n",
       "</div>"
      ],
      "text/plain": [
       "   num_flows     avg_dur  std_dev_dur  percent_stdev_dur  \\\n",
       "0        1.0  445.491201     0.000000           0.000000   \n",
       "1       41.0   63.753415    36.536303           0.414634   \n",
       "2        3.0   15.502029    21.911534           0.333333   \n",
       "3        1.0   10.579209     0.000000           0.000000   \n",
       "4        3.0  143.061461   133.159468           0.333333   \n",
       "\n",
       "   total_size_of_flows_orig  total_size_of_flows_resp  ratio_of_sizes  \\\n",
       "0                   53020.0                   24888.0        0.469408   \n",
       "1                   36933.0                  175896.0        4.762570   \n",
       "2                     646.0                    2643.0        4.091331   \n",
       "3                    1910.0                    6732.0        3.524607   \n",
       "4                    4676.0                  236240.0       50.521814   \n",
       "\n",
       "   percent_of_established_states  inbound_pckts  outbound_pckts  ...  \\\n",
       "0                       1.000000          261.0           275.0  ...   \n",
       "1                       1.000000         1602.0          1801.0  ...   \n",
       "2                       0.000000           12.0            13.0  ...   \n",
       "3                       1.000000           15.0            22.0  ...   \n",
       "4                       0.666667           92.0           108.0  ...   \n",
       "\n",
       "   ratio_of_differ_subject_in_cert  ratio_of_differ_issuer_in_cert  \\\n",
       "0                             -1.0                            -1.0   \n",
       "1                             -1.0                            -1.0   \n",
       "2                             -1.0                            -1.0   \n",
       "3                             -1.0                            -1.0   \n",
       "4                             -1.0                            -1.0   \n",
       "\n",
       "   ratio_of_differ_sandns_in_cert  ratio_of_same_subjects  \\\n",
       "0                            -1.0                    -1.0   \n",
       "1                            -1.0                    -1.0   \n",
       "2                            -1.0                    -1.0   \n",
       "3                            -1.0                    -1.0   \n",
       "4                            -1.0                    -1.0   \n",
       "\n",
       "   ratio_of_same_issuer  ratio_is_same_CN_and_SNI  avg_certificate_exponent  \\\n",
       "0                  -1.0                      -1.0                      -1.0   \n",
       "1                  -1.0                      -1.0                      -1.0   \n",
       "2                  -1.0                      -1.0                      -1.0   \n",
       "3                  -1.0                      -1.0                      -1.0   \n",
       "4                  -1.0                      -1.0                      -1.0   \n",
       "\n",
       "   is_SNI_in_top_level_domain  ratio_certificate_path_error  \\\n",
       "0                         0.0                          -1.0   \n",
       "1                         0.0                          -1.0   \n",
       "2                         0.0                          -1.0   \n",
       "3                         0.0                          -1.0   \n",
       "4                         0.0                          -1.0   \n",
       "\n",
       "   ratio_missing_cert_in_cert_path  \n",
       "0                             -1.0  \n",
       "1                             -1.0  \n",
       "2                             -1.0  \n",
       "3                             -1.0  \n",
       "4                             -1.0  \n",
       "\n",
       "[5 rows x 41 columns]"
      ]
     },
     "execution_count": 29,
     "metadata": {},
     "output_type": "execute_result"
    }
   ],
   "source": [
    "df = pd.read_csv(os.path.join(data_dir, 'Processed', 'Client4', 'Day1', \"comb_features_ben.csv\"))\n",
    "df.head()"
   ]
  },
  {
   "cell_type": "code",
   "execution_count": 5,
   "id": "0f45789f",
   "metadata": {},
   "outputs": [
    {
     "data": {
      "text/plain": [
       "Index(['num_flows', 'avg_dur', 'std_dev_dur', 'percent_stdev_dur',\n",
       "       'total_size_of_flows_orig', 'total_size_of_flows_resp',\n",
       "       'ratio_of_sizes', 'percent_of_established_states', 'inbound_pckts',\n",
       "       'outbound_pckts', 'periodicity_avg', 'periodicity_stdev', 'ssl_ratio',\n",
       "       'average_public_key', 'tls_version_ratio', 'avg_cert_length',\n",
       "       'stdev_cert_length', 'is_valid_certificate_during_capture',\n",
       "       'amount_diff_certificates', 'num_domains_in_cert', 'cert_ratio',\n",
       "       'num_certificate_path', 'x509_ssl_ratio', 'SNI_ssl_ratio',\n",
       "       'self_signed_ratio', 'is_SNIs_in_SNA_dns', 'SNI_equal_DstIP',\n",
       "       'is_CNs_in_SNA_dns', 'ratio_of_differ_SNI_in_ssl_log',\n",
       "       'ratio_of_differ_subject_in_ssl_log',\n",
       "       'ratio_of_differ_issuer_in_ssl_log', 'ratio_of_differ_subject_in_cert',\n",
       "       'ratio_of_differ_issuer_in_cert', 'ratio_of_differ_sandns_in_cert',\n",
       "       'ratio_of_same_subjects', 'ratio_of_same_issuer',\n",
       "       'ratio_is_same_CN_and_SNI', 'avg_certificate_exponent',\n",
       "       'is_SNI_in_top_level_domain', 'ratio_certificate_path_error',\n",
       "       'ratio_missing_cert_in_cert_path'],\n",
       "      dtype='object')"
      ]
     },
     "execution_count": 5,
     "metadata": {},
     "output_type": "execute_result"
    }
   ],
   "source": [
    "df.columns"
   ]
  },
  {
   "cell_type": "code",
   "execution_count": 17,
   "id": "eb3cb41b",
   "metadata": {},
   "outputs": [
    {
     "data": {
      "text/html": [
       "<div>\n",
       "<style scoped>\n",
       "    .dataframe tbody tr th:only-of-type {\n",
       "        vertical-align: middle;\n",
       "    }\n",
       "\n",
       "    .dataframe tbody tr th {\n",
       "        vertical-align: top;\n",
       "    }\n",
       "\n",
       "    .dataframe thead th {\n",
       "        text-align: right;\n",
       "    }\n",
       "</style>\n",
       "<table border=\"1\" class=\"dataframe\">\n",
       "  <thead>\n",
       "    <tr style=\"text-align: right;\">\n",
       "      <th></th>\n",
       "      <th>num_flows</th>\n",
       "      <th>avg_dur</th>\n",
       "      <th>std_dev_dur</th>\n",
       "      <th>percent_stdev_dur</th>\n",
       "      <th>total_size_of_flows_orig</th>\n",
       "      <th>total_size_of_flows_resp</th>\n",
       "      <th>ratio_of_sizes</th>\n",
       "      <th>percent_of_established_states</th>\n",
       "      <th>inbound_pckts</th>\n",
       "      <th>outbound_pckts</th>\n",
       "      <th>...</th>\n",
       "      <th>ratio_of_differ_subject_in_cert</th>\n",
       "      <th>ratio_of_differ_issuer_in_cert</th>\n",
       "      <th>ratio_of_differ_sandns_in_cert</th>\n",
       "      <th>ratio_of_same_subjects</th>\n",
       "      <th>ratio_of_same_issuer</th>\n",
       "      <th>ratio_is_same_CN_and_SNI</th>\n",
       "      <th>avg_certificate_exponent</th>\n",
       "      <th>is_SNI_in_top_level_domain</th>\n",
       "      <th>ratio_certificate_path_error</th>\n",
       "      <th>ratio_missing_cert_in_cert_path</th>\n",
       "    </tr>\n",
       "  </thead>\n",
       "  <tbody>\n",
       "    <tr>\n",
       "      <th>0</th>\n",
       "      <td>1.0</td>\n",
       "      <td>100.450049</td>\n",
       "      <td>0.000000</td>\n",
       "      <td>0.0</td>\n",
       "      <td>1092.0</td>\n",
       "      <td>3754.0</td>\n",
       "      <td>3.437729</td>\n",
       "      <td>1.0</td>\n",
       "      <td>15.0</td>\n",
       "      <td>16.0</td>\n",
       "      <td>...</td>\n",
       "      <td>-1.0</td>\n",
       "      <td>-1.0</td>\n",
       "      <td>-1.0</td>\n",
       "      <td>-1.0</td>\n",
       "      <td>-1.0</td>\n",
       "      <td>-1.0</td>\n",
       "      <td>-1.0</td>\n",
       "      <td>-1.0</td>\n",
       "      <td>-1.0</td>\n",
       "      <td>-1.0</td>\n",
       "    </tr>\n",
       "    <tr>\n",
       "      <th>1</th>\n",
       "      <td>1.0</td>\n",
       "      <td>1.762660</td>\n",
       "      <td>0.000000</td>\n",
       "      <td>0.0</td>\n",
       "      <td>565.0</td>\n",
       "      <td>3496.0</td>\n",
       "      <td>6.187611</td>\n",
       "      <td>1.0</td>\n",
       "      <td>11.0</td>\n",
       "      <td>11.0</td>\n",
       "      <td>...</td>\n",
       "      <td>-1.0</td>\n",
       "      <td>-1.0</td>\n",
       "      <td>-1.0</td>\n",
       "      <td>-1.0</td>\n",
       "      <td>-1.0</td>\n",
       "      <td>-1.0</td>\n",
       "      <td>-1.0</td>\n",
       "      <td>-1.0</td>\n",
       "      <td>-1.0</td>\n",
       "      <td>-1.0</td>\n",
       "    </tr>\n",
       "    <tr>\n",
       "      <th>2</th>\n",
       "      <td>1.0</td>\n",
       "      <td>1.559557</td>\n",
       "      <td>0.000000</td>\n",
       "      <td>0.0</td>\n",
       "      <td>501.0</td>\n",
       "      <td>7421.0</td>\n",
       "      <td>14.812375</td>\n",
       "      <td>1.0</td>\n",
       "      <td>10.0</td>\n",
       "      <td>9.0</td>\n",
       "      <td>...</td>\n",
       "      <td>-1.0</td>\n",
       "      <td>-1.0</td>\n",
       "      <td>-1.0</td>\n",
       "      <td>-1.0</td>\n",
       "      <td>-1.0</td>\n",
       "      <td>-1.0</td>\n",
       "      <td>-1.0</td>\n",
       "      <td>-1.0</td>\n",
       "      <td>-1.0</td>\n",
       "      <td>-1.0</td>\n",
       "    </tr>\n",
       "    <tr>\n",
       "      <th>3</th>\n",
       "      <td>2.0</td>\n",
       "      <td>1.752447</td>\n",
       "      <td>0.000216</td>\n",
       "      <td>0.0</td>\n",
       "      <td>1130.0</td>\n",
       "      <td>6992.0</td>\n",
       "      <td>6.187611</td>\n",
       "      <td>1.0</td>\n",
       "      <td>20.0</td>\n",
       "      <td>20.0</td>\n",
       "      <td>...</td>\n",
       "      <td>-1.0</td>\n",
       "      <td>-1.0</td>\n",
       "      <td>-1.0</td>\n",
       "      <td>-1.0</td>\n",
       "      <td>-1.0</td>\n",
       "      <td>-1.0</td>\n",
       "      <td>-1.0</td>\n",
       "      <td>-1.0</td>\n",
       "      <td>-1.0</td>\n",
       "      <td>-1.0</td>\n",
       "    </tr>\n",
       "    <tr>\n",
       "      <th>4</th>\n",
       "      <td>2.0</td>\n",
       "      <td>1.299021</td>\n",
       "      <td>0.006157</td>\n",
       "      <td>0.0</td>\n",
       "      <td>1002.0</td>\n",
       "      <td>14842.0</td>\n",
       "      <td>14.812375</td>\n",
       "      <td>1.0</td>\n",
       "      <td>20.0</td>\n",
       "      <td>18.0</td>\n",
       "      <td>...</td>\n",
       "      <td>-1.0</td>\n",
       "      <td>-1.0</td>\n",
       "      <td>-1.0</td>\n",
       "      <td>-1.0</td>\n",
       "      <td>-1.0</td>\n",
       "      <td>-1.0</td>\n",
       "      <td>-1.0</td>\n",
       "      <td>-1.0</td>\n",
       "      <td>-1.0</td>\n",
       "      <td>-1.0</td>\n",
       "    </tr>\n",
       "  </tbody>\n",
       "</table>\n",
       "<p>5 rows × 41 columns</p>\n",
       "</div>"
      ],
      "text/plain": [
       "   num_flows     avg_dur  std_dev_dur  percent_stdev_dur  \\\n",
       "0        1.0  100.450049     0.000000                0.0   \n",
       "1        1.0    1.762660     0.000000                0.0   \n",
       "2        1.0    1.559557     0.000000                0.0   \n",
       "3        2.0    1.752447     0.000216                0.0   \n",
       "4        2.0    1.299021     0.006157                0.0   \n",
       "\n",
       "   total_size_of_flows_orig  total_size_of_flows_resp  ratio_of_sizes  \\\n",
       "0                    1092.0                    3754.0        3.437729   \n",
       "1                     565.0                    3496.0        6.187611   \n",
       "2                     501.0                    7421.0       14.812375   \n",
       "3                    1130.0                    6992.0        6.187611   \n",
       "4                    1002.0                   14842.0       14.812375   \n",
       "\n",
       "   percent_of_established_states  inbound_pckts  outbound_pckts  ...  \\\n",
       "0                            1.0           15.0            16.0  ...   \n",
       "1                            1.0           11.0            11.0  ...   \n",
       "2                            1.0           10.0             9.0  ...   \n",
       "3                            1.0           20.0            20.0  ...   \n",
       "4                            1.0           20.0            18.0  ...   \n",
       "\n",
       "   ratio_of_differ_subject_in_cert  ratio_of_differ_issuer_in_cert  \\\n",
       "0                             -1.0                            -1.0   \n",
       "1                             -1.0                            -1.0   \n",
       "2                             -1.0                            -1.0   \n",
       "3                             -1.0                            -1.0   \n",
       "4                             -1.0                            -1.0   \n",
       "\n",
       "   ratio_of_differ_sandns_in_cert  ratio_of_same_subjects  \\\n",
       "0                            -1.0                    -1.0   \n",
       "1                            -1.0                    -1.0   \n",
       "2                            -1.0                    -1.0   \n",
       "3                            -1.0                    -1.0   \n",
       "4                            -1.0                    -1.0   \n",
       "\n",
       "   ratio_of_same_issuer  ratio_is_same_CN_and_SNI  avg_certificate_exponent  \\\n",
       "0                  -1.0                      -1.0                      -1.0   \n",
       "1                  -1.0                      -1.0                      -1.0   \n",
       "2                  -1.0                      -1.0                      -1.0   \n",
       "3                  -1.0                      -1.0                      -1.0   \n",
       "4                  -1.0                      -1.0                      -1.0   \n",
       "\n",
       "   is_SNI_in_top_level_domain  ratio_certificate_path_error  \\\n",
       "0                        -1.0                          -1.0   \n",
       "1                        -1.0                          -1.0   \n",
       "2                        -1.0                          -1.0   \n",
       "3                        -1.0                          -1.0   \n",
       "4                        -1.0                          -1.0   \n",
       "\n",
       "   ratio_missing_cert_in_cert_path  \n",
       "0                             -1.0  \n",
       "1                             -1.0  \n",
       "2                             -1.0  \n",
       "3                             -1.0  \n",
       "4                             -1.0  \n",
       "\n",
       "[5 rows x 41 columns]"
      ]
     },
     "execution_count": 17,
     "metadata": {},
     "output_type": "execute_result"
    }
   ],
   "source": [
    "df2 = pd.read_csv(os.path.join(data_dir, 'Raw', 'Malware', 'CTU-Malware-Capture-Botnet-327-2', 'Day2', \"comb_features.csv\"))\n",
    "df2.head()"
   ]
  },
  {
   "cell_type": "code",
   "execution_count": 21,
   "id": "05771465",
   "metadata": {},
   "outputs": [
    {
     "data": {
      "text/plain": [
       "count    345.000000\n",
       "mean       0.318478\n",
       "std        0.654570\n",
       "min        0.000000\n",
       "25%        0.000000\n",
       "50%        0.000000\n",
       "75%        0.333333\n",
       "max        4.000000\n",
       "Name: ssl_ratio, dtype: float64"
      ]
     },
     "execution_count": 21,
     "metadata": {},
     "output_type": "execute_result"
    }
   ],
   "source": [
    "df.ssl_ratio.describe()"
   ]
  },
  {
   "cell_type": "code",
   "execution_count": 22,
   "id": "7e5358ae",
   "metadata": {},
   "outputs": [
    {
     "data": {
      "text/plain": [
       "count    72.0\n",
       "mean      0.0\n",
       "std       0.0\n",
       "min       0.0\n",
       "25%       0.0\n",
       "50%       0.0\n",
       "75%       0.0\n",
       "max       0.0\n",
       "Name: ssl_ratio, dtype: float64"
      ]
     },
     "execution_count": 22,
     "metadata": {},
     "output_type": "execute_result"
    }
   ],
   "source": [
    "df2.ssl_ratio.describe()"
   ]
  },
  {
   "cell_type": "markdown",
   "id": "2182d364",
   "metadata": {},
   "source": [
    "# Anomaly detection tests"
   ]
  },
  {
   "cell_type": "markdown",
   "id": "0891f487",
   "metadata": {},
   "source": [
    "## Create benign dataset for each day"
   ]
  },
  {
   "cell_type": "code",
   "execution_count": 54,
   "id": "7e8a2bd7",
   "metadata": {},
   "outputs": [],
   "source": [
    "data = dict()\n",
    "for j in range(1, 6):\n",
    "    data[\"Day\"+str(j)] = pd.DataFrame()\n",
    "    for i in range(1, 10):\n",
    "        df_temp = pd.read_csv(os.path.join(data_dir, 'Processed', 'Client'+str(i), 'Day'+str(j), \"comb_features_ben.csv\"))\n",
    "        data[\"Day\"+str(j)] = pd.concat([data[\"Day\"+str(j)], df_temp], ignore_index=True)\n",
    "    "
   ]
  },
  {
   "cell_type": "code",
   "execution_count": 55,
   "id": "49867701",
   "metadata": {},
   "outputs": [
    {
     "name": "stdout",
     "output_type": "stream",
     "text": [
      "Size of Day1 dataframe: 6807\n",
      "Size of Day2 dataframe: 5892\n",
      "Size of Day3 dataframe: 5412\n",
      "Size of Day4 dataframe: 6085\n",
      "Size of Day5 dataframe: 6058\n"
     ]
    }
   ],
   "source": [
    "for i in range(1, 6):\n",
    "    print(f'Size of Day{i} dataframe: {len(data[\"Day\"+str(i)])}')"
   ]
  },
  {
   "cell_type": "code",
   "execution_count": 56,
   "id": "bcd8d3b4",
   "metadata": {},
   "outputs": [],
   "source": [
    "# Drop column \"ssl_ratio\"\n",
    "for i in range(1, 6):\n",
    "    data[\"Day\"+str(i)] = data[\"Day\"+str(i)].drop([\"ssl_ratio\"], axis=1)\n",
    "    data[\"Day\"+str(i)] = data[\"Day\"+str(i)].drop_duplicates()"
   ]
  },
  {
   "cell_type": "code",
   "execution_count": 57,
   "id": "ad604c24",
   "metadata": {},
   "outputs": [
    {
     "name": "stdout",
     "output_type": "stream",
     "text": [
      "Size of Day1 dataframe: 6805\n",
      "Size of Day2 dataframe: 5886\n",
      "Size of Day3 dataframe: 5409\n",
      "Size of Day4 dataframe: 6079\n",
      "Size of Day5 dataframe: 6057\n"
     ]
    }
   ],
   "source": [
    "# Final sizes\n",
    "for i in range(1, 6):\n",
    "    print(f'Size of Day{i} dataframe: {len(data[\"Day\"+str(i)])}')"
   ]
  },
  {
   "cell_type": "markdown",
   "id": "eda05c5c",
   "metadata": {},
   "source": [
    "## Create malware dataset (Day1)"
   ]
  },
  {
   "cell_type": "code",
   "execution_count": 62,
   "id": "4eca5ec4",
   "metadata": {},
   "outputs": [],
   "source": [
    "mal_data = dict()\n",
    "mal_folders = ['CTU-Malware-Capture-Botnet-346-1', 'CTU-Malware-Capture-Botnet-327-2', 'CTU-Malware-Capture-Botnet-230-1', 'CTU-Malware-Capture-Botnet-219-2']\n",
    "\n",
    "for folder in mal_folders:\n",
    "    mal_data[folder] = pd.DataFrame()\n",
    "    df_temp = pd.read_csv(os.path.join(data_dir, 'Raw', 'Malware', folder, 'Day1', \"comb_features.csv\"))\n",
    "    mal_data[folder] = pd.concat([mal_data[folder], df_temp], ignore_index=True)"
   ]
  },
  {
   "cell_type": "code",
   "execution_count": 65,
   "id": "9a8b5e91",
   "metadata": {},
   "outputs": [
    {
     "name": "stdout",
     "output_type": "stream",
     "text": [
      "Size of CTU-Malware-Capture-Botnet-346-1 dataframe: 48\n",
      "Size of CTU-Malware-Capture-Botnet-327-2 dataframe: 72\n",
      "Size of CTU-Malware-Capture-Botnet-230-1 dataframe: 4\n",
      "Size of CTU-Malware-Capture-Botnet-219-2 dataframe: 21\n"
     ]
    }
   ],
   "source": [
    "for folder in mal_folders:\n",
    "    print(f'Size of {folder} dataframe: {len(mal_data[folder])}')"
   ]
  },
  {
   "cell_type": "code",
   "execution_count": 67,
   "id": "5d3942c1",
   "metadata": {},
   "outputs": [],
   "source": [
    "# Drop column \"ssl_ratio\"\n",
    "for folder in mal_folders:\n",
    "    mal_data[folder] = mal_data[folder].drop([\"ssl_ratio\"], axis=1)\n",
    "    mal_data[folder] = mal_data[folder].drop_duplicates()"
   ]
  },
  {
   "cell_type": "code",
   "execution_count": 68,
   "id": "93add3f7",
   "metadata": {},
   "outputs": [
    {
     "name": "stdout",
     "output_type": "stream",
     "text": [
      "Size of CTU-Malware-Capture-Botnet-346-1 dataframe: 48\n",
      "Size of CTU-Malware-Capture-Botnet-327-2 dataframe: 72\n",
      "Size of CTU-Malware-Capture-Botnet-230-1 dataframe: 4\n",
      "Size of CTU-Malware-Capture-Botnet-219-2 dataframe: 21\n"
     ]
    }
   ],
   "source": [
    "for folder in mal_folders:\n",
    "    print(f'Size of {folder} dataframe: {len(mal_data[folder])}')"
   ]
  },
  {
   "cell_type": "markdown",
   "id": "dacdef60",
   "metadata": {},
   "source": [
    "## Anomaly detection"
   ]
  },
  {
   "cell_type": "code",
   "execution_count": 69,
   "id": "a4add110",
   "metadata": {},
   "outputs": [],
   "source": [
    "from sklearn.ensemble import IsolationForest"
   ]
  },
  {
   "cell_type": "code",
   "execution_count": 131,
   "id": "f5eed4e0",
   "metadata": {},
   "outputs": [
    {
     "name": "stderr",
     "output_type": "stream",
     "text": [
      "/home/mariko/miniconda3/envs/ml/lib/python3.9/site-packages/sklearn/base.py:450: UserWarning: X does not have valid feature names, but IsolationForest was fitted with feature names\n",
      "  warnings.warn(\n"
     ]
    }
   ],
   "source": [
    "clf = IsolationForest(n_estimators=200, \n",
    "                      contamination=0.02,\n",
    "                      random_state=1337).fit(data[\"Day1\"])"
   ]
  },
  {
   "cell_type": "code",
   "execution_count": 132,
   "id": "b734f1f8",
   "metadata": {},
   "outputs": [
    {
     "name": "stdout",
     "output_type": "stream",
     "text": [
      "False positives: 2.20%\n"
     ]
    }
   ],
   "source": [
    "print(f'False positives: {100*sum(clf.predict(data[\"Day3\"]) == -1) / len(data[\"Day3\"]):.2f}%')"
   ]
  },
  {
   "cell_type": "code",
   "execution_count": 133,
   "id": "4b23480b",
   "metadata": {},
   "outputs": [
    {
     "name": "stdout",
     "output_type": "stream",
     "text": [
      "Detection CTU-Malware-Capture-Botnet-346-1: 100.00%\n",
      "Detection CTU-Malware-Capture-Botnet-327-2: 0.00%\n",
      "Detection CTU-Malware-Capture-Botnet-230-1: 0.00%\n",
      "Detection CTU-Malware-Capture-Botnet-219-2: 66.67%\n"
     ]
    }
   ],
   "source": [
    "for folder in mal_folders:\n",
    "    print(f'Detection {folder}: {100*sum(clf.predict(mal_data[folder]) == -1) / len(mal_data[folder]):.2f}%')"
   ]
  },
  {
   "cell_type": "code",
   "execution_count": null,
   "id": "7755e04f",
   "metadata": {},
   "outputs": [],
   "source": []
  }
 ],
 "metadata": {
  "kernelspec": {
   "display_name": "Python 3 (ipykernel)",
   "language": "python",
   "name": "python3"
  },
  "language_info": {
   "codemirror_mode": {
    "name": "ipython",
    "version": 3
   },
   "file_extension": ".py",
   "mimetype": "text/x-python",
   "name": "python",
   "nbconvert_exporter": "python",
   "pygments_lexer": "ipython3",
   "version": "3.9.12"
  }
 },
 "nbformat": 4,
 "nbformat_minor": 5
}
