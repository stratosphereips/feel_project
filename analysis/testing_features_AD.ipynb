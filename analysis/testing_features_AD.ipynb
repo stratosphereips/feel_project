{
 "cells": [
  {
   "cell_type": "code",
   "execution_count": 2,
   "id": "ca87cba9",
   "metadata": {},
   "outputs": [],
   "source": [
    "import pandas as pd\n",
    "import numpy as np\n",
    "import matplotlib.pyplot as plt\n",
    "import os\n",
    "\n",
    "%matplotlib inline"
   ]
  },
  {
   "cell_type": "code",
   "execution_count": 3,
   "id": "4d8bb64a",
   "metadata": {},
   "outputs": [],
   "source": [
    "data_dir = '/opt/Malware-Project/BigDataset/FEELScenarios/'"
   ]
  },
  {
   "cell_type": "code",
   "execution_count": 4,
   "id": "43b4e47c",
   "metadata": {},
   "outputs": [
    {
     "data": {
      "text/html": [
       "<div>\n",
       "<style scoped>\n",
       "    .dataframe tbody tr th:only-of-type {\n",
       "        vertical-align: middle;\n",
       "    }\n",
       "\n",
       "    .dataframe tbody tr th {\n",
       "        vertical-align: top;\n",
       "    }\n",
       "\n",
       "    .dataframe thead th {\n",
       "        text-align: right;\n",
       "    }\n",
       "</style>\n",
       "<table border=\"1\" class=\"dataframe\">\n",
       "  <thead>\n",
       "    <tr style=\"text-align: right;\">\n",
       "      <th></th>\n",
       "      <th>num_flows</th>\n",
       "      <th>avg_dur</th>\n",
       "      <th>std_dev_dur</th>\n",
       "      <th>percent_stdev_dur</th>\n",
       "      <th>total_size_of_flows_orig</th>\n",
       "      <th>total_size_of_flows_resp</th>\n",
       "      <th>ratio_of_sizes</th>\n",
       "      <th>percent_of_established_states</th>\n",
       "      <th>inbound_pckts</th>\n",
       "      <th>outbound_pckts</th>\n",
       "      <th>...</th>\n",
       "      <th>ratio_of_differ_subject_in_cert</th>\n",
       "      <th>ratio_of_differ_issuer_in_cert</th>\n",
       "      <th>ratio_of_differ_sandns_in_cert</th>\n",
       "      <th>ratio_of_same_subjects</th>\n",
       "      <th>ratio_of_same_issuer</th>\n",
       "      <th>ratio_is_same_CN_and_SNI</th>\n",
       "      <th>avg_certificate_exponent</th>\n",
       "      <th>is_SNI_in_top_level_domain</th>\n",
       "      <th>ratio_certificate_path_error</th>\n",
       "      <th>ratio_missing_cert_in_cert_path</th>\n",
       "    </tr>\n",
       "  </thead>\n",
       "  <tbody>\n",
       "    <tr>\n",
       "      <th>0</th>\n",
       "      <td>1.0</td>\n",
       "      <td>445.491201</td>\n",
       "      <td>0.000000</td>\n",
       "      <td>0.000000</td>\n",
       "      <td>53020.0</td>\n",
       "      <td>24888.0</td>\n",
       "      <td>0.469408</td>\n",
       "      <td>1.000000</td>\n",
       "      <td>261.0</td>\n",
       "      <td>275.0</td>\n",
       "      <td>...</td>\n",
       "      <td>-1.0</td>\n",
       "      <td>-1.0</td>\n",
       "      <td>-1.0</td>\n",
       "      <td>-1.0</td>\n",
       "      <td>-1.0</td>\n",
       "      <td>-1.0</td>\n",
       "      <td>-1.0</td>\n",
       "      <td>0.0</td>\n",
       "      <td>-1.0</td>\n",
       "      <td>-1.0</td>\n",
       "    </tr>\n",
       "    <tr>\n",
       "      <th>1</th>\n",
       "      <td>41.0</td>\n",
       "      <td>63.753415</td>\n",
       "      <td>36.536303</td>\n",
       "      <td>0.414634</td>\n",
       "      <td>36933.0</td>\n",
       "      <td>175896.0</td>\n",
       "      <td>4.762570</td>\n",
       "      <td>1.000000</td>\n",
       "      <td>1602.0</td>\n",
       "      <td>1801.0</td>\n",
       "      <td>...</td>\n",
       "      <td>-1.0</td>\n",
       "      <td>-1.0</td>\n",
       "      <td>-1.0</td>\n",
       "      <td>-1.0</td>\n",
       "      <td>-1.0</td>\n",
       "      <td>-1.0</td>\n",
       "      <td>-1.0</td>\n",
       "      <td>0.0</td>\n",
       "      <td>-1.0</td>\n",
       "      <td>-1.0</td>\n",
       "    </tr>\n",
       "    <tr>\n",
       "      <th>2</th>\n",
       "      <td>3.0</td>\n",
       "      <td>15.502029</td>\n",
       "      <td>21.911534</td>\n",
       "      <td>0.333333</td>\n",
       "      <td>646.0</td>\n",
       "      <td>2643.0</td>\n",
       "      <td>4.091331</td>\n",
       "      <td>0.000000</td>\n",
       "      <td>12.0</td>\n",
       "      <td>13.0</td>\n",
       "      <td>...</td>\n",
       "      <td>-1.0</td>\n",
       "      <td>-1.0</td>\n",
       "      <td>-1.0</td>\n",
       "      <td>-1.0</td>\n",
       "      <td>-1.0</td>\n",
       "      <td>-1.0</td>\n",
       "      <td>-1.0</td>\n",
       "      <td>0.0</td>\n",
       "      <td>-1.0</td>\n",
       "      <td>-1.0</td>\n",
       "    </tr>\n",
       "    <tr>\n",
       "      <th>3</th>\n",
       "      <td>1.0</td>\n",
       "      <td>10.579209</td>\n",
       "      <td>0.000000</td>\n",
       "      <td>0.000000</td>\n",
       "      <td>1910.0</td>\n",
       "      <td>6732.0</td>\n",
       "      <td>3.524607</td>\n",
       "      <td>1.000000</td>\n",
       "      <td>15.0</td>\n",
       "      <td>22.0</td>\n",
       "      <td>...</td>\n",
       "      <td>-1.0</td>\n",
       "      <td>-1.0</td>\n",
       "      <td>-1.0</td>\n",
       "      <td>-1.0</td>\n",
       "      <td>-1.0</td>\n",
       "      <td>-1.0</td>\n",
       "      <td>-1.0</td>\n",
       "      <td>0.0</td>\n",
       "      <td>-1.0</td>\n",
       "      <td>-1.0</td>\n",
       "    </tr>\n",
       "    <tr>\n",
       "      <th>4</th>\n",
       "      <td>3.0</td>\n",
       "      <td>143.061461</td>\n",
       "      <td>133.159468</td>\n",
       "      <td>0.333333</td>\n",
       "      <td>4676.0</td>\n",
       "      <td>236240.0</td>\n",
       "      <td>50.521814</td>\n",
       "      <td>0.666667</td>\n",
       "      <td>92.0</td>\n",
       "      <td>108.0</td>\n",
       "      <td>...</td>\n",
       "      <td>-1.0</td>\n",
       "      <td>-1.0</td>\n",
       "      <td>-1.0</td>\n",
       "      <td>-1.0</td>\n",
       "      <td>-1.0</td>\n",
       "      <td>-1.0</td>\n",
       "      <td>-1.0</td>\n",
       "      <td>0.0</td>\n",
       "      <td>-1.0</td>\n",
       "      <td>-1.0</td>\n",
       "    </tr>\n",
       "  </tbody>\n",
       "</table>\n",
       "<p>5 rows × 41 columns</p>\n",
       "</div>"
      ],
      "text/plain": [
       "   num_flows     avg_dur  std_dev_dur  percent_stdev_dur  \\\n",
       "0        1.0  445.491201     0.000000           0.000000   \n",
       "1       41.0   63.753415    36.536303           0.414634   \n",
       "2        3.0   15.502029    21.911534           0.333333   \n",
       "3        1.0   10.579209     0.000000           0.000000   \n",
       "4        3.0  143.061461   133.159468           0.333333   \n",
       "\n",
       "   total_size_of_flows_orig  total_size_of_flows_resp  ratio_of_sizes  \\\n",
       "0                   53020.0                   24888.0        0.469408   \n",
       "1                   36933.0                  175896.0        4.762570   \n",
       "2                     646.0                    2643.0        4.091331   \n",
       "3                    1910.0                    6732.0        3.524607   \n",
       "4                    4676.0                  236240.0       50.521814   \n",
       "\n",
       "   percent_of_established_states  inbound_pckts  outbound_pckts  ...  \\\n",
       "0                       1.000000          261.0           275.0  ...   \n",
       "1                       1.000000         1602.0          1801.0  ...   \n",
       "2                       0.000000           12.0            13.0  ...   \n",
       "3                       1.000000           15.0            22.0  ...   \n",
       "4                       0.666667           92.0           108.0  ...   \n",
       "\n",
       "   ratio_of_differ_subject_in_cert  ratio_of_differ_issuer_in_cert  \\\n",
       "0                             -1.0                            -1.0   \n",
       "1                             -1.0                            -1.0   \n",
       "2                             -1.0                            -1.0   \n",
       "3                             -1.0                            -1.0   \n",
       "4                             -1.0                            -1.0   \n",
       "\n",
       "   ratio_of_differ_sandns_in_cert  ratio_of_same_subjects  \\\n",
       "0                            -1.0                    -1.0   \n",
       "1                            -1.0                    -1.0   \n",
       "2                            -1.0                    -1.0   \n",
       "3                            -1.0                    -1.0   \n",
       "4                            -1.0                    -1.0   \n",
       "\n",
       "   ratio_of_same_issuer  ratio_is_same_CN_and_SNI  avg_certificate_exponent  \\\n",
       "0                  -1.0                      -1.0                      -1.0   \n",
       "1                  -1.0                      -1.0                      -1.0   \n",
       "2                  -1.0                      -1.0                      -1.0   \n",
       "3                  -1.0                      -1.0                      -1.0   \n",
       "4                  -1.0                      -1.0                      -1.0   \n",
       "\n",
       "   is_SNI_in_top_level_domain  ratio_certificate_path_error  \\\n",
       "0                         0.0                          -1.0   \n",
       "1                         0.0                          -1.0   \n",
       "2                         0.0                          -1.0   \n",
       "3                         0.0                          -1.0   \n",
       "4                         0.0                          -1.0   \n",
       "\n",
       "   ratio_missing_cert_in_cert_path  \n",
       "0                             -1.0  \n",
       "1                             -1.0  \n",
       "2                             -1.0  \n",
       "3                             -1.0  \n",
       "4                             -1.0  \n",
       "\n",
       "[5 rows x 41 columns]"
      ]
     },
     "execution_count": 4,
     "metadata": {},
     "output_type": "execute_result"
    }
   ],
   "source": [
    "df = pd.read_csv(os.path.join(data_dir, 'Processed', 'Client4', 'Day1', \"comb_features_ben.csv\"))\n",
    "df.head()"
   ]
  },
  {
   "cell_type": "code",
   "execution_count": 5,
   "id": "64c012e1",
   "metadata": {},
   "outputs": [
    {
     "data": {
      "text/plain": [
       "Index(['num_flows', 'avg_dur', 'std_dev_dur', 'percent_stdev_dur',\n",
       "       'total_size_of_flows_orig', 'total_size_of_flows_resp',\n",
       "       'ratio_of_sizes', 'percent_of_established_states', 'inbound_pckts',\n",
       "       'outbound_pckts', 'periodicity_avg', 'periodicity_stdev', 'ssl_ratio',\n",
       "       'average_public_key', 'tls_version_ratio', 'avg_cert_length',\n",
       "       'stdev_cert_length', 'is_valid_certificate_during_capture',\n",
       "       'amount_diff_certificates', 'num_domains_in_cert', 'cert_ratio',\n",
       "       'num_certificate_path', 'x509_ssl_ratio', 'SNI_ssl_ratio',\n",
       "       'self_signed_ratio', 'is_SNIs_in_SNA_dns', 'SNI_equal_DstIP',\n",
       "       'is_CNs_in_SNA_dns', 'ratio_of_differ_SNI_in_ssl_log',\n",
       "       'ratio_of_differ_subject_in_ssl_log',\n",
       "       'ratio_of_differ_issuer_in_ssl_log', 'ratio_of_differ_subject_in_cert',\n",
       "       'ratio_of_differ_issuer_in_cert', 'ratio_of_differ_sandns_in_cert',\n",
       "       'ratio_of_same_subjects', 'ratio_of_same_issuer',\n",
       "       'ratio_is_same_CN_and_SNI', 'avg_certificate_exponent',\n",
       "       'is_SNI_in_top_level_domain', 'ratio_certificate_path_error',\n",
       "       'ratio_missing_cert_in_cert_path'],\n",
       "      dtype='object')"
      ]
     },
     "execution_count": 5,
     "metadata": {},
     "output_type": "execute_result"
    }
   ],
   "source": [
    "df.columns"
   ]
  },
  {
   "cell_type": "code",
   "execution_count": 6,
   "id": "fd6d6e32",
   "metadata": {},
   "outputs": [
    {
     "data": {
      "text/html": [
       "<div>\n",
       "<style scoped>\n",
       "    .dataframe tbody tr th:only-of-type {\n",
       "        vertical-align: middle;\n",
       "    }\n",
       "\n",
       "    .dataframe tbody tr th {\n",
       "        vertical-align: top;\n",
       "    }\n",
       "\n",
       "    .dataframe thead th {\n",
       "        text-align: right;\n",
       "    }\n",
       "</style>\n",
       "<table border=\"1\" class=\"dataframe\">\n",
       "  <thead>\n",
       "    <tr style=\"text-align: right;\">\n",
       "      <th></th>\n",
       "      <th>num_flows</th>\n",
       "      <th>avg_dur</th>\n",
       "      <th>std_dev_dur</th>\n",
       "      <th>percent_stdev_dur</th>\n",
       "      <th>total_size_of_flows_orig</th>\n",
       "      <th>total_size_of_flows_resp</th>\n",
       "      <th>ratio_of_sizes</th>\n",
       "      <th>percent_of_established_states</th>\n",
       "      <th>inbound_pckts</th>\n",
       "      <th>outbound_pckts</th>\n",
       "      <th>...</th>\n",
       "      <th>ratio_of_differ_subject_in_cert</th>\n",
       "      <th>ratio_of_differ_issuer_in_cert</th>\n",
       "      <th>ratio_of_differ_sandns_in_cert</th>\n",
       "      <th>ratio_of_same_subjects</th>\n",
       "      <th>ratio_of_same_issuer</th>\n",
       "      <th>ratio_is_same_CN_and_SNI</th>\n",
       "      <th>avg_certificate_exponent</th>\n",
       "      <th>is_SNI_in_top_level_domain</th>\n",
       "      <th>ratio_certificate_path_error</th>\n",
       "      <th>ratio_missing_cert_in_cert_path</th>\n",
       "    </tr>\n",
       "  </thead>\n",
       "  <tbody>\n",
       "    <tr>\n",
       "      <th>count</th>\n",
       "      <td>416.000000</td>\n",
       "      <td>416.000000</td>\n",
       "      <td>416.000000</td>\n",
       "      <td>416.000000</td>\n",
       "      <td>4.160000e+02</td>\n",
       "      <td>4.160000e+02</td>\n",
       "      <td>416.000000</td>\n",
       "      <td>416.000000</td>\n",
       "      <td>416.000000</td>\n",
       "      <td>416.000000</td>\n",
       "      <td>...</td>\n",
       "      <td>416.000000</td>\n",
       "      <td>416.000000</td>\n",
       "      <td>416.000000</td>\n",
       "      <td>416.000000</td>\n",
       "      <td>416.000000</td>\n",
       "      <td>416.000000</td>\n",
       "      <td>416.000000</td>\n",
       "      <td>416.000000</td>\n",
       "      <td>416.0</td>\n",
       "      <td>416.0</td>\n",
       "    </tr>\n",
       "    <tr>\n",
       "      <th>mean</th>\n",
       "      <td>3.009615</td>\n",
       "      <td>367.519121</td>\n",
       "      <td>74.753646</td>\n",
       "      <td>0.146275</td>\n",
       "      <td>1.607526e+04</td>\n",
       "      <td>2.936880e+05</td>\n",
       "      <td>50.363344</td>\n",
       "      <td>0.929071</td>\n",
       "      <td>304.132212</td>\n",
       "      <td>331.348558</td>\n",
       "      <td>...</td>\n",
       "      <td>-0.980769</td>\n",
       "      <td>-0.980769</td>\n",
       "      <td>-0.980769</td>\n",
       "      <td>-0.971154</td>\n",
       "      <td>-0.971154</td>\n",
       "      <td>-0.973558</td>\n",
       "      <td>471.641827</td>\n",
       "      <td>-0.012019</td>\n",
       "      <td>-1.0</td>\n",
       "      <td>-1.0</td>\n",
       "    </tr>\n",
       "    <tr>\n",
       "      <th>std</th>\n",
       "      <td>6.393890</td>\n",
       "      <td>1645.899872</td>\n",
       "      <td>844.392199</td>\n",
       "      <td>0.218326</td>\n",
       "      <td>7.846250e+04</td>\n",
       "      <td>2.273792e+06</td>\n",
       "      <td>362.064082</td>\n",
       "      <td>0.192014</td>\n",
       "      <td>2857.937553</td>\n",
       "      <td>3470.623243</td>\n",
       "      <td>...</td>\n",
       "      <td>0.137501</td>\n",
       "      <td>0.137501</td>\n",
       "      <td>0.137501</td>\n",
       "      <td>0.217620</td>\n",
       "      <td>0.217620</td>\n",
       "      <td>0.200656</td>\n",
       "      <td>5552.109764</td>\n",
       "      <td>0.109103</td>\n",
       "      <td>0.0</td>\n",
       "      <td>0.0</td>\n",
       "    </tr>\n",
       "    <tr>\n",
       "      <th>min</th>\n",
       "      <td>1.000000</td>\n",
       "      <td>0.000005</td>\n",
       "      <td>0.000000</td>\n",
       "      <td>0.000000</td>\n",
       "      <td>1.340000e+02</td>\n",
       "      <td>0.000000e+00</td>\n",
       "      <td>0.000000</td>\n",
       "      <td>0.000000</td>\n",
       "      <td>0.000000</td>\n",
       "      <td>2.000000</td>\n",
       "      <td>...</td>\n",
       "      <td>-1.000000</td>\n",
       "      <td>-1.000000</td>\n",
       "      <td>-1.000000</td>\n",
       "      <td>-1.000000</td>\n",
       "      <td>-1.000000</td>\n",
       "      <td>-1.000000</td>\n",
       "      <td>-1.000000</td>\n",
       "      <td>-1.000000</td>\n",
       "      <td>-1.0</td>\n",
       "      <td>-1.0</td>\n",
       "    </tr>\n",
       "    <tr>\n",
       "      <th>25%</th>\n",
       "      <td>1.000000</td>\n",
       "      <td>10.554657</td>\n",
       "      <td>0.000000</td>\n",
       "      <td>0.000000</td>\n",
       "      <td>1.910000e+03</td>\n",
       "      <td>6.288000e+03</td>\n",
       "      <td>1.716299</td>\n",
       "      <td>1.000000</td>\n",
       "      <td>24.000000</td>\n",
       "      <td>32.000000</td>\n",
       "      <td>...</td>\n",
       "      <td>-1.000000</td>\n",
       "      <td>-1.000000</td>\n",
       "      <td>-1.000000</td>\n",
       "      <td>-1.000000</td>\n",
       "      <td>-1.000000</td>\n",
       "      <td>-1.000000</td>\n",
       "      <td>-1.000000</td>\n",
       "      <td>0.000000</td>\n",
       "      <td>-1.0</td>\n",
       "      <td>-1.0</td>\n",
       "    </tr>\n",
       "    <tr>\n",
       "      <th>50%</th>\n",
       "      <td>2.000000</td>\n",
       "      <td>106.317291</td>\n",
       "      <td>0.028899</td>\n",
       "      <td>0.000000</td>\n",
       "      <td>2.936000e+03</td>\n",
       "      <td>1.153200e+04</td>\n",
       "      <td>3.600720</td>\n",
       "      <td>1.000000</td>\n",
       "      <td>47.000000</td>\n",
       "      <td>56.000000</td>\n",
       "      <td>...</td>\n",
       "      <td>-1.000000</td>\n",
       "      <td>-1.000000</td>\n",
       "      <td>-1.000000</td>\n",
       "      <td>-1.000000</td>\n",
       "      <td>-1.000000</td>\n",
       "      <td>-1.000000</td>\n",
       "      <td>-1.000000</td>\n",
       "      <td>0.000000</td>\n",
       "      <td>-1.0</td>\n",
       "      <td>-1.0</td>\n",
       "    </tr>\n",
       "    <tr>\n",
       "      <th>75%</th>\n",
       "      <td>3.000000</td>\n",
       "      <td>244.049213</td>\n",
       "      <td>19.282848</td>\n",
       "      <td>0.333333</td>\n",
       "      <td>7.678750e+03</td>\n",
       "      <td>2.671550e+04</td>\n",
       "      <td>6.729675</td>\n",
       "      <td>1.000000</td>\n",
       "      <td>119.750000</td>\n",
       "      <td>124.000000</td>\n",
       "      <td>...</td>\n",
       "      <td>-1.000000</td>\n",
       "      <td>-1.000000</td>\n",
       "      <td>-1.000000</td>\n",
       "      <td>-1.000000</td>\n",
       "      <td>-1.000000</td>\n",
       "      <td>-1.000000</td>\n",
       "      <td>-1.000000</td>\n",
       "      <td>0.000000</td>\n",
       "      <td>-1.0</td>\n",
       "      <td>-1.0</td>\n",
       "    </tr>\n",
       "    <tr>\n",
       "      <th>max</th>\n",
       "      <td>76.000000</td>\n",
       "      <td>26782.765993</td>\n",
       "      <td>15930.695930</td>\n",
       "      <td>1.000000</td>\n",
       "      <td>1.434297e+06</td>\n",
       "      <td>4.205366e+07</td>\n",
       "      <td>5884.923594</td>\n",
       "      <td>1.000000</td>\n",
       "      <td>57505.000000</td>\n",
       "      <td>70503.000000</td>\n",
       "      <td>...</td>\n",
       "      <td>0.000000</td>\n",
       "      <td>0.000000</td>\n",
       "      <td>0.000000</td>\n",
       "      <td>1.000000</td>\n",
       "      <td>1.000000</td>\n",
       "      <td>1.000000</td>\n",
       "      <td>65537.000000</td>\n",
       "      <td>0.000000</td>\n",
       "      <td>-1.0</td>\n",
       "      <td>-1.0</td>\n",
       "    </tr>\n",
       "  </tbody>\n",
       "</table>\n",
       "<p>8 rows × 41 columns</p>\n",
       "</div>"
      ],
      "text/plain": [
       "        num_flows       avg_dur   std_dev_dur  percent_stdev_dur  \\\n",
       "count  416.000000    416.000000    416.000000         416.000000   \n",
       "mean     3.009615    367.519121     74.753646           0.146275   \n",
       "std      6.393890   1645.899872    844.392199           0.218326   \n",
       "min      1.000000      0.000005      0.000000           0.000000   \n",
       "25%      1.000000     10.554657      0.000000           0.000000   \n",
       "50%      2.000000    106.317291      0.028899           0.000000   \n",
       "75%      3.000000    244.049213     19.282848           0.333333   \n",
       "max     76.000000  26782.765993  15930.695930           1.000000   \n",
       "\n",
       "       total_size_of_flows_orig  total_size_of_flows_resp  ratio_of_sizes  \\\n",
       "count              4.160000e+02              4.160000e+02      416.000000   \n",
       "mean               1.607526e+04              2.936880e+05       50.363344   \n",
       "std                7.846250e+04              2.273792e+06      362.064082   \n",
       "min                1.340000e+02              0.000000e+00        0.000000   \n",
       "25%                1.910000e+03              6.288000e+03        1.716299   \n",
       "50%                2.936000e+03              1.153200e+04        3.600720   \n",
       "75%                7.678750e+03              2.671550e+04        6.729675   \n",
       "max                1.434297e+06              4.205366e+07     5884.923594   \n",
       "\n",
       "       percent_of_established_states  inbound_pckts  outbound_pckts  ...  \\\n",
       "count                     416.000000     416.000000      416.000000  ...   \n",
       "mean                        0.929071     304.132212      331.348558  ...   \n",
       "std                         0.192014    2857.937553     3470.623243  ...   \n",
       "min                         0.000000       0.000000        2.000000  ...   \n",
       "25%                         1.000000      24.000000       32.000000  ...   \n",
       "50%                         1.000000      47.000000       56.000000  ...   \n",
       "75%                         1.000000     119.750000      124.000000  ...   \n",
       "max                         1.000000   57505.000000    70503.000000  ...   \n",
       "\n",
       "       ratio_of_differ_subject_in_cert  ratio_of_differ_issuer_in_cert  \\\n",
       "count                       416.000000                      416.000000   \n",
       "mean                         -0.980769                       -0.980769   \n",
       "std                           0.137501                        0.137501   \n",
       "min                          -1.000000                       -1.000000   \n",
       "25%                          -1.000000                       -1.000000   \n",
       "50%                          -1.000000                       -1.000000   \n",
       "75%                          -1.000000                       -1.000000   \n",
       "max                           0.000000                        0.000000   \n",
       "\n",
       "       ratio_of_differ_sandns_in_cert  ratio_of_same_subjects  \\\n",
       "count                      416.000000              416.000000   \n",
       "mean                        -0.980769               -0.971154   \n",
       "std                          0.137501                0.217620   \n",
       "min                         -1.000000               -1.000000   \n",
       "25%                         -1.000000               -1.000000   \n",
       "50%                         -1.000000               -1.000000   \n",
       "75%                         -1.000000               -1.000000   \n",
       "max                          0.000000                1.000000   \n",
       "\n",
       "       ratio_of_same_issuer  ratio_is_same_CN_and_SNI  \\\n",
       "count            416.000000                416.000000   \n",
       "mean              -0.971154                 -0.973558   \n",
       "std                0.217620                  0.200656   \n",
       "min               -1.000000                 -1.000000   \n",
       "25%               -1.000000                 -1.000000   \n",
       "50%               -1.000000                 -1.000000   \n",
       "75%               -1.000000                 -1.000000   \n",
       "max                1.000000                  1.000000   \n",
       "\n",
       "       avg_certificate_exponent  is_SNI_in_top_level_domain  \\\n",
       "count                416.000000                  416.000000   \n",
       "mean                 471.641827                   -0.012019   \n",
       "std                 5552.109764                    0.109103   \n",
       "min                   -1.000000                   -1.000000   \n",
       "25%                   -1.000000                    0.000000   \n",
       "50%                   -1.000000                    0.000000   \n",
       "75%                   -1.000000                    0.000000   \n",
       "max                65537.000000                    0.000000   \n",
       "\n",
       "       ratio_certificate_path_error  ratio_missing_cert_in_cert_path  \n",
       "count                         416.0                            416.0  \n",
       "mean                           -1.0                             -1.0  \n",
       "std                             0.0                              0.0  \n",
       "min                            -1.0                             -1.0  \n",
       "25%                            -1.0                             -1.0  \n",
       "50%                            -1.0                             -1.0  \n",
       "75%                            -1.0                             -1.0  \n",
       "max                            -1.0                             -1.0  \n",
       "\n",
       "[8 rows x 41 columns]"
      ]
     },
     "execution_count": 6,
     "metadata": {},
     "output_type": "execute_result"
    }
   ],
   "source": [
    "df.describe()"
   ]
  },
  {
   "cell_type": "code",
   "execution_count": 7,
   "id": "f85a9732",
   "metadata": {},
   "outputs": [
    {
     "data": {
      "text/html": [
       "<div>\n",
       "<style scoped>\n",
       "    .dataframe tbody tr th:only-of-type {\n",
       "        vertical-align: middle;\n",
       "    }\n",
       "\n",
       "    .dataframe tbody tr th {\n",
       "        vertical-align: top;\n",
       "    }\n",
       "\n",
       "    .dataframe thead th {\n",
       "        text-align: right;\n",
       "    }\n",
       "</style>\n",
       "<table border=\"1\" class=\"dataframe\">\n",
       "  <thead>\n",
       "    <tr style=\"text-align: right;\">\n",
       "      <th></th>\n",
       "      <th>num_flows</th>\n",
       "      <th>avg_dur</th>\n",
       "      <th>std_dev_dur</th>\n",
       "      <th>percent_stdev_dur</th>\n",
       "      <th>total_size_of_flows_orig</th>\n",
       "      <th>total_size_of_flows_resp</th>\n",
       "      <th>ratio_of_sizes</th>\n",
       "      <th>percent_of_established_states</th>\n",
       "      <th>inbound_pckts</th>\n",
       "      <th>outbound_pckts</th>\n",
       "      <th>...</th>\n",
       "      <th>ratio_of_differ_subject_in_cert</th>\n",
       "      <th>ratio_of_differ_issuer_in_cert</th>\n",
       "      <th>ratio_of_differ_sandns_in_cert</th>\n",
       "      <th>ratio_of_same_subjects</th>\n",
       "      <th>ratio_of_same_issuer</th>\n",
       "      <th>ratio_is_same_CN_and_SNI</th>\n",
       "      <th>avg_certificate_exponent</th>\n",
       "      <th>is_SNI_in_top_level_domain</th>\n",
       "      <th>ratio_certificate_path_error</th>\n",
       "      <th>ratio_missing_cert_in_cert_path</th>\n",
       "    </tr>\n",
       "  </thead>\n",
       "  <tbody>\n",
       "    <tr>\n",
       "      <th>0</th>\n",
       "      <td>1.0</td>\n",
       "      <td>100.450049</td>\n",
       "      <td>0.000000</td>\n",
       "      <td>0.0</td>\n",
       "      <td>1092.0</td>\n",
       "      <td>3754.0</td>\n",
       "      <td>3.437729</td>\n",
       "      <td>1.0</td>\n",
       "      <td>15.0</td>\n",
       "      <td>16.0</td>\n",
       "      <td>...</td>\n",
       "      <td>-1.0</td>\n",
       "      <td>-1.0</td>\n",
       "      <td>-1.0</td>\n",
       "      <td>-1.0</td>\n",
       "      <td>-1.0</td>\n",
       "      <td>-1.0</td>\n",
       "      <td>-1.0</td>\n",
       "      <td>-1.0</td>\n",
       "      <td>-1.0</td>\n",
       "      <td>-1.0</td>\n",
       "    </tr>\n",
       "    <tr>\n",
       "      <th>1</th>\n",
       "      <td>1.0</td>\n",
       "      <td>1.762660</td>\n",
       "      <td>0.000000</td>\n",
       "      <td>0.0</td>\n",
       "      <td>565.0</td>\n",
       "      <td>3496.0</td>\n",
       "      <td>6.187611</td>\n",
       "      <td>1.0</td>\n",
       "      <td>11.0</td>\n",
       "      <td>11.0</td>\n",
       "      <td>...</td>\n",
       "      <td>-1.0</td>\n",
       "      <td>-1.0</td>\n",
       "      <td>-1.0</td>\n",
       "      <td>-1.0</td>\n",
       "      <td>-1.0</td>\n",
       "      <td>-1.0</td>\n",
       "      <td>-1.0</td>\n",
       "      <td>-1.0</td>\n",
       "      <td>-1.0</td>\n",
       "      <td>-1.0</td>\n",
       "    </tr>\n",
       "    <tr>\n",
       "      <th>2</th>\n",
       "      <td>1.0</td>\n",
       "      <td>1.559557</td>\n",
       "      <td>0.000000</td>\n",
       "      <td>0.0</td>\n",
       "      <td>501.0</td>\n",
       "      <td>7421.0</td>\n",
       "      <td>14.812375</td>\n",
       "      <td>1.0</td>\n",
       "      <td>10.0</td>\n",
       "      <td>9.0</td>\n",
       "      <td>...</td>\n",
       "      <td>-1.0</td>\n",
       "      <td>-1.0</td>\n",
       "      <td>-1.0</td>\n",
       "      <td>-1.0</td>\n",
       "      <td>-1.0</td>\n",
       "      <td>-1.0</td>\n",
       "      <td>-1.0</td>\n",
       "      <td>-1.0</td>\n",
       "      <td>-1.0</td>\n",
       "      <td>-1.0</td>\n",
       "    </tr>\n",
       "    <tr>\n",
       "      <th>3</th>\n",
       "      <td>2.0</td>\n",
       "      <td>1.752447</td>\n",
       "      <td>0.000216</td>\n",
       "      <td>0.0</td>\n",
       "      <td>1130.0</td>\n",
       "      <td>6992.0</td>\n",
       "      <td>6.187611</td>\n",
       "      <td>1.0</td>\n",
       "      <td>20.0</td>\n",
       "      <td>20.0</td>\n",
       "      <td>...</td>\n",
       "      <td>-1.0</td>\n",
       "      <td>-1.0</td>\n",
       "      <td>-1.0</td>\n",
       "      <td>-1.0</td>\n",
       "      <td>-1.0</td>\n",
       "      <td>-1.0</td>\n",
       "      <td>-1.0</td>\n",
       "      <td>-1.0</td>\n",
       "      <td>-1.0</td>\n",
       "      <td>-1.0</td>\n",
       "    </tr>\n",
       "    <tr>\n",
       "      <th>4</th>\n",
       "      <td>2.0</td>\n",
       "      <td>1.299021</td>\n",
       "      <td>0.006157</td>\n",
       "      <td>0.0</td>\n",
       "      <td>1002.0</td>\n",
       "      <td>14842.0</td>\n",
       "      <td>14.812375</td>\n",
       "      <td>1.0</td>\n",
       "      <td>20.0</td>\n",
       "      <td>18.0</td>\n",
       "      <td>...</td>\n",
       "      <td>-1.0</td>\n",
       "      <td>-1.0</td>\n",
       "      <td>-1.0</td>\n",
       "      <td>-1.0</td>\n",
       "      <td>-1.0</td>\n",
       "      <td>-1.0</td>\n",
       "      <td>-1.0</td>\n",
       "      <td>-1.0</td>\n",
       "      <td>-1.0</td>\n",
       "      <td>-1.0</td>\n",
       "    </tr>\n",
       "  </tbody>\n",
       "</table>\n",
       "<p>5 rows × 41 columns</p>\n",
       "</div>"
      ],
      "text/plain": [
       "   num_flows     avg_dur  std_dev_dur  percent_stdev_dur  \\\n",
       "0        1.0  100.450049     0.000000                0.0   \n",
       "1        1.0    1.762660     0.000000                0.0   \n",
       "2        1.0    1.559557     0.000000                0.0   \n",
       "3        2.0    1.752447     0.000216                0.0   \n",
       "4        2.0    1.299021     0.006157                0.0   \n",
       "\n",
       "   total_size_of_flows_orig  total_size_of_flows_resp  ratio_of_sizes  \\\n",
       "0                    1092.0                    3754.0        3.437729   \n",
       "1                     565.0                    3496.0        6.187611   \n",
       "2                     501.0                    7421.0       14.812375   \n",
       "3                    1130.0                    6992.0        6.187611   \n",
       "4                    1002.0                   14842.0       14.812375   \n",
       "\n",
       "   percent_of_established_states  inbound_pckts  outbound_pckts  ...  \\\n",
       "0                            1.0           15.0            16.0  ...   \n",
       "1                            1.0           11.0            11.0  ...   \n",
       "2                            1.0           10.0             9.0  ...   \n",
       "3                            1.0           20.0            20.0  ...   \n",
       "4                            1.0           20.0            18.0  ...   \n",
       "\n",
       "   ratio_of_differ_subject_in_cert  ratio_of_differ_issuer_in_cert  \\\n",
       "0                             -1.0                            -1.0   \n",
       "1                             -1.0                            -1.0   \n",
       "2                             -1.0                            -1.0   \n",
       "3                             -1.0                            -1.0   \n",
       "4                             -1.0                            -1.0   \n",
       "\n",
       "   ratio_of_differ_sandns_in_cert  ratio_of_same_subjects  \\\n",
       "0                            -1.0                    -1.0   \n",
       "1                            -1.0                    -1.0   \n",
       "2                            -1.0                    -1.0   \n",
       "3                            -1.0                    -1.0   \n",
       "4                            -1.0                    -1.0   \n",
       "\n",
       "   ratio_of_same_issuer  ratio_is_same_CN_and_SNI  avg_certificate_exponent  \\\n",
       "0                  -1.0                      -1.0                      -1.0   \n",
       "1                  -1.0                      -1.0                      -1.0   \n",
       "2                  -1.0                      -1.0                      -1.0   \n",
       "3                  -1.0                      -1.0                      -1.0   \n",
       "4                  -1.0                      -1.0                      -1.0   \n",
       "\n",
       "   is_SNI_in_top_level_domain  ratio_certificate_path_error  \\\n",
       "0                        -1.0                          -1.0   \n",
       "1                        -1.0                          -1.0   \n",
       "2                        -1.0                          -1.0   \n",
       "3                        -1.0                          -1.0   \n",
       "4                        -1.0                          -1.0   \n",
       "\n",
       "   ratio_missing_cert_in_cert_path  \n",
       "0                             -1.0  \n",
       "1                             -1.0  \n",
       "2                             -1.0  \n",
       "3                             -1.0  \n",
       "4                             -1.0  \n",
       "\n",
       "[5 rows x 41 columns]"
      ]
     },
     "execution_count": 7,
     "metadata": {},
     "output_type": "execute_result"
    }
   ],
   "source": [
    "df2 = pd.read_csv(os.path.join(data_dir, 'Raw', 'Malware', 'CTU-Malware-Capture-Botnet-327-2', 'Day2', \"comb_features.csv\"))\n",
    "df2.head()"
   ]
  },
  {
   "cell_type": "code",
   "execution_count": 8,
   "id": "2b29a35b",
   "metadata": {},
   "outputs": [
    {
     "data": {
      "text/html": [
       "<div>\n",
       "<style scoped>\n",
       "    .dataframe tbody tr th:only-of-type {\n",
       "        vertical-align: middle;\n",
       "    }\n",
       "\n",
       "    .dataframe tbody tr th {\n",
       "        vertical-align: top;\n",
       "    }\n",
       "\n",
       "    .dataframe thead th {\n",
       "        text-align: right;\n",
       "    }\n",
       "</style>\n",
       "<table border=\"1\" class=\"dataframe\">\n",
       "  <thead>\n",
       "    <tr style=\"text-align: right;\">\n",
       "      <th></th>\n",
       "      <th>num_flows</th>\n",
       "      <th>avg_dur</th>\n",
       "      <th>std_dev_dur</th>\n",
       "      <th>percent_stdev_dur</th>\n",
       "      <th>total_size_of_flows_orig</th>\n",
       "      <th>total_size_of_flows_resp</th>\n",
       "      <th>ratio_of_sizes</th>\n",
       "      <th>percent_of_established_states</th>\n",
       "      <th>inbound_pckts</th>\n",
       "      <th>outbound_pckts</th>\n",
       "      <th>...</th>\n",
       "      <th>ratio_of_differ_subject_in_cert</th>\n",
       "      <th>ratio_of_differ_issuer_in_cert</th>\n",
       "      <th>ratio_of_differ_sandns_in_cert</th>\n",
       "      <th>ratio_of_same_subjects</th>\n",
       "      <th>ratio_of_same_issuer</th>\n",
       "      <th>ratio_is_same_CN_and_SNI</th>\n",
       "      <th>avg_certificate_exponent</th>\n",
       "      <th>is_SNI_in_top_level_domain</th>\n",
       "      <th>ratio_certificate_path_error</th>\n",
       "      <th>ratio_missing_cert_in_cert_path</th>\n",
       "    </tr>\n",
       "  </thead>\n",
       "  <tbody>\n",
       "    <tr>\n",
       "      <th>count</th>\n",
       "      <td>72.000000</td>\n",
       "      <td>72.000000</td>\n",
       "      <td>72.000000</td>\n",
       "      <td>72.000000</td>\n",
       "      <td>72.000000</td>\n",
       "      <td>72.000000</td>\n",
       "      <td>72.000000</td>\n",
       "      <td>72.0</td>\n",
       "      <td>72.000000</td>\n",
       "      <td>72.000000</td>\n",
       "      <td>...</td>\n",
       "      <td>72.0</td>\n",
       "      <td>72.0</td>\n",
       "      <td>72.0</td>\n",
       "      <td>72.0</td>\n",
       "      <td>72.0</td>\n",
       "      <td>72.0</td>\n",
       "      <td>72.0</td>\n",
       "      <td>72.0</td>\n",
       "      <td>72.0</td>\n",
       "      <td>72.0</td>\n",
       "    </tr>\n",
       "    <tr>\n",
       "      <th>mean</th>\n",
       "      <td>1.236111</td>\n",
       "      <td>34.493395</td>\n",
       "      <td>0.002323</td>\n",
       "      <td>0.027778</td>\n",
       "      <td>884.000000</td>\n",
       "      <td>6059.444444</td>\n",
       "      <td>8.144131</td>\n",
       "      <td>1.0</td>\n",
       "      <td>14.138889</td>\n",
       "      <td>14.138889</td>\n",
       "      <td>...</td>\n",
       "      <td>-1.0</td>\n",
       "      <td>-1.0</td>\n",
       "      <td>-1.0</td>\n",
       "      <td>-1.0</td>\n",
       "      <td>-1.0</td>\n",
       "      <td>-1.0</td>\n",
       "      <td>-1.0</td>\n",
       "      <td>-1.0</td>\n",
       "      <td>-1.0</td>\n",
       "      <td>-1.0</td>\n",
       "    </tr>\n",
       "    <tr>\n",
       "      <th>std</th>\n",
       "      <td>0.427672</td>\n",
       "      <td>46.943116</td>\n",
       "      <td>0.007502</td>\n",
       "      <td>0.115334</td>\n",
       "      <td>447.068007</td>\n",
       "      <td>3206.370911</td>\n",
       "      <td>4.877294</td>\n",
       "      <td>0.0</td>\n",
       "      <td>5.347911</td>\n",
       "      <td>5.903700</td>\n",
       "      <td>...</td>\n",
       "      <td>0.0</td>\n",
       "      <td>0.0</td>\n",
       "      <td>0.0</td>\n",
       "      <td>0.0</td>\n",
       "      <td>0.0</td>\n",
       "      <td>0.0</td>\n",
       "      <td>0.0</td>\n",
       "      <td>0.0</td>\n",
       "      <td>0.0</td>\n",
       "      <td>0.0</td>\n",
       "    </tr>\n",
       "    <tr>\n",
       "      <th>min</th>\n",
       "      <td>1.000000</td>\n",
       "      <td>1.258316</td>\n",
       "      <td>0.000000</td>\n",
       "      <td>0.000000</td>\n",
       "      <td>501.000000</td>\n",
       "      <td>3496.000000</td>\n",
       "      <td>3.437729</td>\n",
       "      <td>1.0</td>\n",
       "      <td>10.000000</td>\n",
       "      <td>9.000000</td>\n",
       "      <td>...</td>\n",
       "      <td>-1.0</td>\n",
       "      <td>-1.0</td>\n",
       "      <td>-1.0</td>\n",
       "      <td>-1.0</td>\n",
       "      <td>-1.0</td>\n",
       "      <td>-1.0</td>\n",
       "      <td>-1.0</td>\n",
       "      <td>-1.0</td>\n",
       "      <td>-1.0</td>\n",
       "      <td>-1.0</td>\n",
       "    </tr>\n",
       "    <tr>\n",
       "      <th>25%</th>\n",
       "      <td>1.000000</td>\n",
       "      <td>1.298613</td>\n",
       "      <td>0.000000</td>\n",
       "      <td>0.000000</td>\n",
       "      <td>549.000000</td>\n",
       "      <td>3689.500000</td>\n",
       "      <td>3.437729</td>\n",
       "      <td>1.0</td>\n",
       "      <td>10.000000</td>\n",
       "      <td>9.750000</td>\n",
       "      <td>...</td>\n",
       "      <td>-1.0</td>\n",
       "      <td>-1.0</td>\n",
       "      <td>-1.0</td>\n",
       "      <td>-1.0</td>\n",
       "      <td>-1.0</td>\n",
       "      <td>-1.0</td>\n",
       "      <td>-1.0</td>\n",
       "      <td>-1.0</td>\n",
       "      <td>-1.0</td>\n",
       "      <td>-1.0</td>\n",
       "    </tr>\n",
       "    <tr>\n",
       "      <th>50%</th>\n",
       "      <td>1.000000</td>\n",
       "      <td>1.761366</td>\n",
       "      <td>0.000000</td>\n",
       "      <td>0.000000</td>\n",
       "      <td>783.500000</td>\n",
       "      <td>3754.000000</td>\n",
       "      <td>6.187611</td>\n",
       "      <td>1.0</td>\n",
       "      <td>12.500000</td>\n",
       "      <td>13.000000</td>\n",
       "      <td>...</td>\n",
       "      <td>-1.0</td>\n",
       "      <td>-1.0</td>\n",
       "      <td>-1.0</td>\n",
       "      <td>-1.0</td>\n",
       "      <td>-1.0</td>\n",
       "      <td>-1.0</td>\n",
       "      <td>-1.0</td>\n",
       "      <td>-1.0</td>\n",
       "      <td>-1.0</td>\n",
       "      <td>-1.0</td>\n",
       "    </tr>\n",
       "    <tr>\n",
       "      <th>75%</th>\n",
       "      <td>1.000000</td>\n",
       "      <td>100.389645</td>\n",
       "      <td>0.000000</td>\n",
       "      <td>0.000000</td>\n",
       "      <td>1092.000000</td>\n",
       "      <td>7421.000000</td>\n",
       "      <td>14.812375</td>\n",
       "      <td>1.0</td>\n",
       "      <td>16.000000</td>\n",
       "      <td>17.000000</td>\n",
       "      <td>...</td>\n",
       "      <td>-1.0</td>\n",
       "      <td>-1.0</td>\n",
       "      <td>-1.0</td>\n",
       "      <td>-1.0</td>\n",
       "      <td>-1.0</td>\n",
       "      <td>-1.0</td>\n",
       "      <td>-1.0</td>\n",
       "      <td>-1.0</td>\n",
       "      <td>-1.0</td>\n",
       "      <td>-1.0</td>\n",
       "    </tr>\n",
       "    <tr>\n",
       "      <th>max</th>\n",
       "      <td>2.000000</td>\n",
       "      <td>100.479427</td>\n",
       "      <td>0.049931</td>\n",
       "      <td>0.500000</td>\n",
       "      <td>2184.000000</td>\n",
       "      <td>14842.000000</td>\n",
       "      <td>14.812375</td>\n",
       "      <td>1.0</td>\n",
       "      <td>31.000000</td>\n",
       "      <td>33.000000</td>\n",
       "      <td>...</td>\n",
       "      <td>-1.0</td>\n",
       "      <td>-1.0</td>\n",
       "      <td>-1.0</td>\n",
       "      <td>-1.0</td>\n",
       "      <td>-1.0</td>\n",
       "      <td>-1.0</td>\n",
       "      <td>-1.0</td>\n",
       "      <td>-1.0</td>\n",
       "      <td>-1.0</td>\n",
       "      <td>-1.0</td>\n",
       "    </tr>\n",
       "  </tbody>\n",
       "</table>\n",
       "<p>8 rows × 41 columns</p>\n",
       "</div>"
      ],
      "text/plain": [
       "       num_flows     avg_dur  std_dev_dur  percent_stdev_dur  \\\n",
       "count  72.000000   72.000000    72.000000          72.000000   \n",
       "mean    1.236111   34.493395     0.002323           0.027778   \n",
       "std     0.427672   46.943116     0.007502           0.115334   \n",
       "min     1.000000    1.258316     0.000000           0.000000   \n",
       "25%     1.000000    1.298613     0.000000           0.000000   \n",
       "50%     1.000000    1.761366     0.000000           0.000000   \n",
       "75%     1.000000  100.389645     0.000000           0.000000   \n",
       "max     2.000000  100.479427     0.049931           0.500000   \n",
       "\n",
       "       total_size_of_flows_orig  total_size_of_flows_resp  ratio_of_sizes  \\\n",
       "count                 72.000000                 72.000000       72.000000   \n",
       "mean                 884.000000               6059.444444        8.144131   \n",
       "std                  447.068007               3206.370911        4.877294   \n",
       "min                  501.000000               3496.000000        3.437729   \n",
       "25%                  549.000000               3689.500000        3.437729   \n",
       "50%                  783.500000               3754.000000        6.187611   \n",
       "75%                 1092.000000               7421.000000       14.812375   \n",
       "max                 2184.000000              14842.000000       14.812375   \n",
       "\n",
       "       percent_of_established_states  inbound_pckts  outbound_pckts  ...  \\\n",
       "count                           72.0      72.000000       72.000000  ...   \n",
       "mean                             1.0      14.138889       14.138889  ...   \n",
       "std                              0.0       5.347911        5.903700  ...   \n",
       "min                              1.0      10.000000        9.000000  ...   \n",
       "25%                              1.0      10.000000        9.750000  ...   \n",
       "50%                              1.0      12.500000       13.000000  ...   \n",
       "75%                              1.0      16.000000       17.000000  ...   \n",
       "max                              1.0      31.000000       33.000000  ...   \n",
       "\n",
       "       ratio_of_differ_subject_in_cert  ratio_of_differ_issuer_in_cert  \\\n",
       "count                             72.0                            72.0   \n",
       "mean                              -1.0                            -1.0   \n",
       "std                                0.0                             0.0   \n",
       "min                               -1.0                            -1.0   \n",
       "25%                               -1.0                            -1.0   \n",
       "50%                               -1.0                            -1.0   \n",
       "75%                               -1.0                            -1.0   \n",
       "max                               -1.0                            -1.0   \n",
       "\n",
       "       ratio_of_differ_sandns_in_cert  ratio_of_same_subjects  \\\n",
       "count                            72.0                    72.0   \n",
       "mean                             -1.0                    -1.0   \n",
       "std                               0.0                     0.0   \n",
       "min                              -1.0                    -1.0   \n",
       "25%                              -1.0                    -1.0   \n",
       "50%                              -1.0                    -1.0   \n",
       "75%                              -1.0                    -1.0   \n",
       "max                              -1.0                    -1.0   \n",
       "\n",
       "       ratio_of_same_issuer  ratio_is_same_CN_and_SNI  \\\n",
       "count                  72.0                      72.0   \n",
       "mean                   -1.0                      -1.0   \n",
       "std                     0.0                       0.0   \n",
       "min                    -1.0                      -1.0   \n",
       "25%                    -1.0                      -1.0   \n",
       "50%                    -1.0                      -1.0   \n",
       "75%                    -1.0                      -1.0   \n",
       "max                    -1.0                      -1.0   \n",
       "\n",
       "       avg_certificate_exponent  is_SNI_in_top_level_domain  \\\n",
       "count                      72.0                        72.0   \n",
       "mean                       -1.0                        -1.0   \n",
       "std                         0.0                         0.0   \n",
       "min                        -1.0                        -1.0   \n",
       "25%                        -1.0                        -1.0   \n",
       "50%                        -1.0                        -1.0   \n",
       "75%                        -1.0                        -1.0   \n",
       "max                        -1.0                        -1.0   \n",
       "\n",
       "       ratio_certificate_path_error  ratio_missing_cert_in_cert_path  \n",
       "count                          72.0                             72.0  \n",
       "mean                           -1.0                             -1.0  \n",
       "std                             0.0                              0.0  \n",
       "min                            -1.0                             -1.0  \n",
       "25%                            -1.0                             -1.0  \n",
       "50%                            -1.0                             -1.0  \n",
       "75%                            -1.0                             -1.0  \n",
       "max                            -1.0                             -1.0  \n",
       "\n",
       "[8 rows x 41 columns]"
      ]
     },
     "execution_count": 8,
     "metadata": {},
     "output_type": "execute_result"
    }
   ],
   "source": [
    "df2.describe()"
   ]
  },
  {
   "cell_type": "code",
   "execution_count": 9,
   "id": "f3b6d507",
   "metadata": {},
   "outputs": [
    {
     "data": {
      "text/plain": [
       "count    416.000000\n",
       "mean       0.387398\n",
       "std        0.752985\n",
       "min        0.000000\n",
       "25%        0.000000\n",
       "50%        0.000000\n",
       "75%        0.666667\n",
       "max        6.000000\n",
       "Name: ssl_ratio, dtype: float64"
      ]
     },
     "execution_count": 9,
     "metadata": {},
     "output_type": "execute_result"
    }
   ],
   "source": [
    "df.ssl_ratio.describe()"
   ]
  },
  {
   "cell_type": "code",
   "execution_count": 10,
   "id": "c11740c4",
   "metadata": {},
   "outputs": [
    {
     "data": {
      "text/plain": [
       "count    72.0\n",
       "mean      0.0\n",
       "std       0.0\n",
       "min       0.0\n",
       "25%       0.0\n",
       "50%       0.0\n",
       "75%       0.0\n",
       "max       0.0\n",
       "Name: ssl_ratio, dtype: float64"
      ]
     },
     "execution_count": 10,
     "metadata": {},
     "output_type": "execute_result"
    }
   ],
   "source": [
    "df2.ssl_ratio.describe()"
   ]
  },
  {
   "cell_type": "code",
   "execution_count": 11,
   "id": "c764fdb5",
   "metadata": {},
   "outputs": [
    {
     "name": "stdout",
     "output_type": "stream",
     "text": [
      "ratio_certificate_path_error\n",
      "ratio_missing_cert_in_cert_path\n"
     ]
    }
   ],
   "source": [
    "for column in df.columns:\n",
    "    if df[column].describe()[\"mean\"] == -1:\n",
    "        print(column)"
   ]
  },
  {
   "cell_type": "code",
   "execution_count": 12,
   "id": "1e79d8b4",
   "metadata": {},
   "outputs": [
    {
     "name": "stdout",
     "output_type": "stream",
     "text": [
      "periodicity_avg\n",
      "periodicity_stdev\n",
      "average_public_key\n",
      "avg_cert_length\n",
      "stdev_cert_length\n",
      "is_valid_certificate_during_capture\n",
      "num_domains_in_cert\n",
      "cert_ratio\n",
      "is_SNIs_in_SNA_dns\n",
      "is_CNs_in_SNA_dns\n",
      "ratio_of_differ_SNI_in_ssl_log\n",
      "ratio_of_differ_issuer_in_ssl_log\n",
      "ratio_of_differ_subject_in_cert\n",
      "ratio_of_differ_issuer_in_cert\n",
      "ratio_of_differ_sandns_in_cert\n",
      "ratio_of_same_subjects\n",
      "ratio_of_same_issuer\n",
      "ratio_is_same_CN_and_SNI\n",
      "avg_certificate_exponent\n",
      "is_SNI_in_top_level_domain\n",
      "ratio_certificate_path_error\n",
      "ratio_missing_cert_in_cert_path\n"
     ]
    }
   ],
   "source": [
    "for column in df2.columns:\n",
    "    if df2[column].describe()[\"mean\"] == -1:\n",
    "        print(column)"
   ]
  },
  {
   "cell_type": "markdown",
   "id": "642452a3",
   "metadata": {},
   "source": [
    "# Anomaly detection tests"
   ]
  },
  {
   "cell_type": "markdown",
   "id": "60d5127a",
   "metadata": {},
   "source": [
    "## Create benign dataset for each day"
   ]
  },
  {
   "cell_type": "code",
   "execution_count": 13,
   "id": "4261d7cd",
   "metadata": {},
   "outputs": [],
   "source": [
    "data = dict()\n",
    "for j in range(1, 6):\n",
    "    data[\"Day\"+str(j)] = pd.DataFrame()\n",
    "    for i in range(1, 10):\n",
    "        df_temp = pd.read_csv(os.path.join(data_dir, 'Processed', 'Client'+str(i), 'Day'+str(j), \"comb_features_ben.csv\"))\n",
    "        data[\"Day\"+str(j)] = pd.concat([data[\"Day\"+str(j)], df_temp], ignore_index=True)\n",
    "    "
   ]
  },
  {
   "cell_type": "code",
   "execution_count": 14,
   "id": "1e4d9d59",
   "metadata": {},
   "outputs": [
    {
     "name": "stdout",
     "output_type": "stream",
     "text": [
      "Size of Day1 dataframe: 6807\n",
      "Size of Day2 dataframe: 5892\n",
      "Size of Day3 dataframe: 5412\n",
      "Size of Day4 dataframe: 6085\n",
      "Size of Day5 dataframe: 6058\n"
     ]
    }
   ],
   "source": [
    "for i in range(1, 6):\n",
    "    print(f'Size of Day{i} dataframe: {len(data[\"Day\"+str(i)])}')"
   ]
  },
  {
   "cell_type": "code",
   "execution_count": 15,
   "id": "a61c85a3",
   "metadata": {},
   "outputs": [
    {
     "name": "stdout",
     "output_type": "stream",
     "text": [
      "1 ratio_certificate_path_error\n",
      "1 ratio_missing_cert_in_cert_path\n",
      "2 ratio_certificate_path_error\n",
      "2 ratio_missing_cert_in_cert_path\n",
      "3 ratio_certificate_path_error\n",
      "3 ratio_missing_cert_in_cert_path\n",
      "4 ratio_certificate_path_error\n",
      "4 ratio_missing_cert_in_cert_path\n",
      "5 ratio_certificate_path_error\n",
      "5 ratio_missing_cert_in_cert_path\n"
     ]
    }
   ],
   "source": [
    "for i in range(1, 6):\n",
    "    for column in df.columns:\n",
    "        if data[\"Day\"+str(j)][column].describe()[\"mean\"] == -1:\n",
    "            print(i, column)"
   ]
  },
  {
   "cell_type": "code",
   "execution_count": 16,
   "id": "8b88d3c1",
   "metadata": {},
   "outputs": [],
   "source": [
    "# Drop column \"ssl_ratio\"\n",
    "for i in range(1, 6):\n",
    "    data[\"Day\"+str(i)] = data[\"Day\"+str(i)].drop([\"ssl_ratio\", \"ratio_certificate_path_error\", \"ratio_missing_cert_in_cert_path\"], axis=1)\n",
    "    data[\"Day\"+str(i)] = data[\"Day\"+str(i)].drop_duplicates()"
   ]
  },
  {
   "cell_type": "code",
   "execution_count": 17,
   "id": "7df72cf3",
   "metadata": {},
   "outputs": [
    {
     "name": "stdout",
     "output_type": "stream",
     "text": [
      "Size of Day1 dataframe: 6805\n",
      "Size of Day2 dataframe: 5886\n",
      "Size of Day3 dataframe: 5409\n",
      "Size of Day4 dataframe: 6079\n",
      "Size of Day5 dataframe: 6057\n"
     ]
    }
   ],
   "source": [
    "# Final sizes\n",
    "for i in range(1, 6):\n",
    "    print(f'Size of Day{i} dataframe: {len(data[\"Day\"+str(i)])}')"
   ]
  },
  {
   "cell_type": "code",
   "execution_count": null,
   "id": "c07fec9c",
   "metadata": {},
   "outputs": [],
   "source": []
  },
  {
   "cell_type": "markdown",
   "id": "34251651",
   "metadata": {},
   "source": [
    "## Create malware dataset (Day1)"
   ]
  },
  {
   "cell_type": "code",
   "execution_count": 18,
   "id": "8c13262e",
   "metadata": {},
   "outputs": [],
   "source": [
    "mal_data = dict()\n",
    "mal_folders = ['CTU-Malware-Capture-Botnet-346-1', 'CTU-Malware-Capture-Botnet-327-2', 'CTU-Malware-Capture-Botnet-230-1', 'CTU-Malware-Capture-Botnet-219-2']\n",
    "\n",
    "for folder in mal_folders:\n",
    "    mal_data[folder] = pd.DataFrame()\n",
    "    df_temp = pd.read_csv(os.path.join(data_dir, 'Raw', 'Malware', folder, 'Day1', \"comb_features.csv\"))\n",
    "    mal_data[folder] = pd.concat([mal_data[folder], df_temp], ignore_index=True)"
   ]
  },
  {
   "cell_type": "code",
   "execution_count": 19,
   "id": "39ae27e6",
   "metadata": {},
   "outputs": [
    {
     "name": "stdout",
     "output_type": "stream",
     "text": [
      "Size of CTU-Malware-Capture-Botnet-346-1 dataframe: 48\n",
      "Size of CTU-Malware-Capture-Botnet-327-2 dataframe: 72\n",
      "Size of CTU-Malware-Capture-Botnet-230-1 dataframe: 4\n",
      "Size of CTU-Malware-Capture-Botnet-219-2 dataframe: 21\n"
     ]
    }
   ],
   "source": [
    "for folder in mal_folders:\n",
    "    print(f'Size of {folder} dataframe: {len(mal_data[folder])}')"
   ]
  },
  {
   "cell_type": "code",
   "execution_count": 20,
   "id": "cc48675c",
   "metadata": {},
   "outputs": [
    {
     "name": "stdout",
     "output_type": "stream",
     "text": [
      "CTU-Malware-Capture-Botnet-346-1 num_domains_in_cert\n",
      "CTU-Malware-Capture-Botnet-346-1 is_SNIs_in_SNA_dns\n",
      "CTU-Malware-Capture-Botnet-346-1 is_CNs_in_SNA_dns\n",
      "CTU-Malware-Capture-Botnet-346-1 ratio_of_differ_SNI_in_ssl_log\n",
      "CTU-Malware-Capture-Botnet-346-1 ratio_of_differ_sandns_in_cert\n",
      "CTU-Malware-Capture-Botnet-346-1 is_SNI_in_top_level_domain\n",
      "CTU-Malware-Capture-Botnet-346-1 ratio_certificate_path_error\n",
      "CTU-Malware-Capture-Botnet-346-1 ratio_missing_cert_in_cert_path\n",
      "CTU-Malware-Capture-Botnet-327-2 periodicity_avg\n",
      "CTU-Malware-Capture-Botnet-327-2 periodicity_stdev\n",
      "CTU-Malware-Capture-Botnet-327-2 average_public_key\n",
      "CTU-Malware-Capture-Botnet-327-2 avg_cert_length\n",
      "CTU-Malware-Capture-Botnet-327-2 stdev_cert_length\n",
      "CTU-Malware-Capture-Botnet-327-2 is_valid_certificate_during_capture\n",
      "CTU-Malware-Capture-Botnet-327-2 num_domains_in_cert\n",
      "CTU-Malware-Capture-Botnet-327-2 cert_ratio\n",
      "CTU-Malware-Capture-Botnet-327-2 is_SNIs_in_SNA_dns\n",
      "CTU-Malware-Capture-Botnet-327-2 is_CNs_in_SNA_dns\n",
      "CTU-Malware-Capture-Botnet-327-2 ratio_of_differ_SNI_in_ssl_log\n",
      "CTU-Malware-Capture-Botnet-327-2 ratio_of_differ_issuer_in_ssl_log\n",
      "CTU-Malware-Capture-Botnet-327-2 ratio_of_differ_subject_in_cert\n",
      "CTU-Malware-Capture-Botnet-327-2 ratio_of_differ_issuer_in_cert\n",
      "CTU-Malware-Capture-Botnet-327-2 ratio_of_differ_sandns_in_cert\n",
      "CTU-Malware-Capture-Botnet-327-2 ratio_of_same_subjects\n",
      "CTU-Malware-Capture-Botnet-327-2 ratio_of_same_issuer\n",
      "CTU-Malware-Capture-Botnet-327-2 ratio_is_same_CN_and_SNI\n",
      "CTU-Malware-Capture-Botnet-327-2 avg_certificate_exponent\n",
      "CTU-Malware-Capture-Botnet-327-2 is_SNI_in_top_level_domain\n",
      "CTU-Malware-Capture-Botnet-327-2 ratio_certificate_path_error\n",
      "CTU-Malware-Capture-Botnet-327-2 ratio_missing_cert_in_cert_path\n",
      "CTU-Malware-Capture-Botnet-230-1 periodicity_avg\n",
      "CTU-Malware-Capture-Botnet-230-1 periodicity_stdev\n",
      "CTU-Malware-Capture-Botnet-230-1 ratio_certificate_path_error\n",
      "CTU-Malware-Capture-Botnet-230-1 ratio_missing_cert_in_cert_path\n",
      "CTU-Malware-Capture-Botnet-219-2 is_SNIs_in_SNA_dns\n",
      "CTU-Malware-Capture-Botnet-219-2 ratio_of_differ_SNI_in_ssl_log\n",
      "CTU-Malware-Capture-Botnet-219-2 is_SNI_in_top_level_domain\n",
      "CTU-Malware-Capture-Botnet-219-2 ratio_certificate_path_error\n",
      "CTU-Malware-Capture-Botnet-219-2 ratio_missing_cert_in_cert_path\n"
     ]
    }
   ],
   "source": [
    "for folder in mal_folders:\n",
    "    for column in df.columns:\n",
    "        if mal_data[folder][column].describe()[\"mean\"] == -1:\n",
    "            print(folder, column)"
   ]
  },
  {
   "cell_type": "code",
   "execution_count": 21,
   "id": "86307897",
   "metadata": {},
   "outputs": [],
   "source": [
    "# Drop column \"ssl_ratio\"\n",
    "for folder in mal_folders:\n",
    "    mal_data[folder] = mal_data[folder].drop([\"ssl_ratio\", \"ssl_ratio\", \"ratio_certificate_path_error\", \"ratio_missing_cert_in_cert_path\"], axis=1)\n",
    "    mal_data[folder] = mal_data[folder].drop_duplicates()"
   ]
  },
  {
   "cell_type": "code",
   "execution_count": 22,
   "id": "2c04c2b8",
   "metadata": {},
   "outputs": [
    {
     "name": "stdout",
     "output_type": "stream",
     "text": [
      "Size of CTU-Malware-Capture-Botnet-346-1 dataframe: 48\n",
      "Size of CTU-Malware-Capture-Botnet-327-2 dataframe: 72\n",
      "Size of CTU-Malware-Capture-Botnet-230-1 dataframe: 4\n",
      "Size of CTU-Malware-Capture-Botnet-219-2 dataframe: 21\n"
     ]
    }
   ],
   "source": [
    "for folder in mal_folders:\n",
    "    print(f'Size of {folder} dataframe: {len(mal_data[folder])}')"
   ]
  },
  {
   "cell_type": "markdown",
   "id": "fe926d03",
   "metadata": {},
   "source": [
    "## Anomaly detection"
   ]
  },
  {
   "cell_type": "markdown",
   "id": "b0142d69",
   "metadata": {},
   "source": [
    "### Isolation Forests"
   ]
  },
  {
   "cell_type": "code",
   "execution_count": 26,
   "id": "b853b454",
   "metadata": {},
   "outputs": [],
   "source": [
    "from sklearn.ensemble import IsolationForest\n",
    "from sklearn import preprocessing"
   ]
  },
  {
   "cell_type": "code",
   "execution_count": 41,
   "id": "f0c56578",
   "metadata": {},
   "outputs": [],
   "source": [
    "# scaler = preprocessing.StandardScaler().fit(data[\"Day1\"])\n",
    "scaler = preprocessing.MinMaxScaler().fit(data[\"Day1\"])\n",
    "X = scaler.transform(data[\"Day1\"])\n",
    "iso = IsolationForest(n_estimators=50, \n",
    "                      contamination=0.02,\n",
    "                      random_state=1337).fit(X)"
   ]
  },
  {
   "cell_type": "code",
   "execution_count": 42,
   "id": "bd5118b2",
   "metadata": {},
   "outputs": [
    {
     "name": "stdout",
     "output_type": "stream",
     "text": [
      "False positives: 1.72%\n"
     ]
    }
   ],
   "source": [
    "X_test = scaler.transform(data[\"Day2\"])\n",
    "print(f'False positives: {100*sum(iso.predict(X_test) == -1) / len(X_test):.2f}%')"
   ]
  },
  {
   "cell_type": "code",
   "execution_count": 43,
   "id": "e3dca361",
   "metadata": {},
   "outputs": [
    {
     "name": "stdout",
     "output_type": "stream",
     "text": [
      "Detection CTU-Malware-Capture-Botnet-346-1: 43.75%\n",
      "Detection CTU-Malware-Capture-Botnet-327-2: 0.00%\n",
      "Detection CTU-Malware-Capture-Botnet-230-1: 0.00%\n",
      "Detection CTU-Malware-Capture-Botnet-219-2: 66.67%\n"
     ]
    }
   ],
   "source": [
    "for folder in mal_folders:\n",
    "    X_test_mal = scaler.transform(mal_data[folder])\n",
    "    print(f'Detection {folder}: {100*sum(iso.predict(X_test_mal) == -1) / len(X_test_mal):.2f}%')"
   ]
  },
  {
   "cell_type": "markdown",
   "id": "51af5fcd",
   "metadata": {},
   "source": [
    "### LOF"
   ]
  },
  {
   "cell_type": "code",
   "execution_count": 44,
   "id": "dce58099",
   "metadata": {},
   "outputs": [],
   "source": [
    "from sklearn.neighbors import LocalOutlierFactor"
   ]
  },
  {
   "cell_type": "code",
   "execution_count": 45,
   "id": "420166e1",
   "metadata": {},
   "outputs": [],
   "source": [
    "lof = LocalOutlierFactor(n_neighbors=5, novelty=True, contamination=0.02)"
   ]
  },
  {
   "cell_type": "code",
   "execution_count": 46,
   "id": "1a9db84f",
   "metadata": {},
   "outputs": [
    {
     "data": {
      "text/html": [
       "<style>#sk-container-id-1 {color: black;background-color: white;}#sk-container-id-1 pre{padding: 0;}#sk-container-id-1 div.sk-toggleable {background-color: white;}#sk-container-id-1 label.sk-toggleable__label {cursor: pointer;display: block;width: 100%;margin-bottom: 0;padding: 0.3em;box-sizing: border-box;text-align: center;}#sk-container-id-1 label.sk-toggleable__label-arrow:before {content: \"▸\";float: left;margin-right: 0.25em;color: #696969;}#sk-container-id-1 label.sk-toggleable__label-arrow:hover:before {color: black;}#sk-container-id-1 div.sk-estimator:hover label.sk-toggleable__label-arrow:before {color: black;}#sk-container-id-1 div.sk-toggleable__content {max-height: 0;max-width: 0;overflow: hidden;text-align: left;background-color: #f0f8ff;}#sk-container-id-1 div.sk-toggleable__content pre {margin: 0.2em;color: black;border-radius: 0.25em;background-color: #f0f8ff;}#sk-container-id-1 input.sk-toggleable__control:checked~div.sk-toggleable__content {max-height: 200px;max-width: 100%;overflow: auto;}#sk-container-id-1 input.sk-toggleable__control:checked~label.sk-toggleable__label-arrow:before {content: \"▾\";}#sk-container-id-1 div.sk-estimator input.sk-toggleable__control:checked~label.sk-toggleable__label {background-color: #d4ebff;}#sk-container-id-1 div.sk-label input.sk-toggleable__control:checked~label.sk-toggleable__label {background-color: #d4ebff;}#sk-container-id-1 input.sk-hidden--visually {border: 0;clip: rect(1px 1px 1px 1px);clip: rect(1px, 1px, 1px, 1px);height: 1px;margin: -1px;overflow: hidden;padding: 0;position: absolute;width: 1px;}#sk-container-id-1 div.sk-estimator {font-family: monospace;background-color: #f0f8ff;border: 1px dotted black;border-radius: 0.25em;box-sizing: border-box;margin-bottom: 0.5em;}#sk-container-id-1 div.sk-estimator:hover {background-color: #d4ebff;}#sk-container-id-1 div.sk-parallel-item::after {content: \"\";width: 100%;border-bottom: 1px solid gray;flex-grow: 1;}#sk-container-id-1 div.sk-label:hover label.sk-toggleable__label {background-color: #d4ebff;}#sk-container-id-1 div.sk-serial::before {content: \"\";position: absolute;border-left: 1px solid gray;box-sizing: border-box;top: 0;bottom: 0;left: 50%;z-index: 0;}#sk-container-id-1 div.sk-serial {display: flex;flex-direction: column;align-items: center;background-color: white;padding-right: 0.2em;padding-left: 0.2em;position: relative;}#sk-container-id-1 div.sk-item {position: relative;z-index: 1;}#sk-container-id-1 div.sk-parallel {display: flex;align-items: stretch;justify-content: center;background-color: white;position: relative;}#sk-container-id-1 div.sk-item::before, #sk-container-id-1 div.sk-parallel-item::before {content: \"\";position: absolute;border-left: 1px solid gray;box-sizing: border-box;top: 0;bottom: 0;left: 50%;z-index: -1;}#sk-container-id-1 div.sk-parallel-item {display: flex;flex-direction: column;z-index: 1;position: relative;background-color: white;}#sk-container-id-1 div.sk-parallel-item:first-child::after {align-self: flex-end;width: 50%;}#sk-container-id-1 div.sk-parallel-item:last-child::after {align-self: flex-start;width: 50%;}#sk-container-id-1 div.sk-parallel-item:only-child::after {width: 0;}#sk-container-id-1 div.sk-dashed-wrapped {border: 1px dashed gray;margin: 0 0.4em 0.5em 0.4em;box-sizing: border-box;padding-bottom: 0.4em;background-color: white;}#sk-container-id-1 div.sk-label label {font-family: monospace;font-weight: bold;display: inline-block;line-height: 1.2em;}#sk-container-id-1 div.sk-label-container {text-align: center;}#sk-container-id-1 div.sk-container {/* jupyter's `normalize.less` sets `[hidden] { display: none; }` but bootstrap.min.css set `[hidden] { display: none !important; }` so we also need the `!important` here to be able to override the default hidden behavior on the sphinx rendered scikit-learn.org. See: https://github.com/scikit-learn/scikit-learn/issues/21755 */display: inline-block !important;position: relative;}#sk-container-id-1 div.sk-text-repr-fallback {display: none;}</style><div id=\"sk-container-id-1\" class=\"sk-top-container\"><div class=\"sk-text-repr-fallback\"><pre>LocalOutlierFactor(contamination=0.02, n_neighbors=5, novelty=True)</pre><b>In a Jupyter environment, please rerun this cell to show the HTML representation or trust the notebook. <br />On GitHub, the HTML representation is unable to render, please try loading this page with nbviewer.org.</b></div><div class=\"sk-container\" hidden><div class=\"sk-item\"><div class=\"sk-estimator sk-toggleable\"><input class=\"sk-toggleable__control sk-hidden--visually\" id=\"sk-estimator-id-1\" type=\"checkbox\" checked><label for=\"sk-estimator-id-1\" class=\"sk-toggleable__label sk-toggleable__label-arrow\">LocalOutlierFactor</label><div class=\"sk-toggleable__content\"><pre>LocalOutlierFactor(contamination=0.02, n_neighbors=5, novelty=True)</pre></div></div></div></div></div>"
      ],
      "text/plain": [
       "LocalOutlierFactor(contamination=0.02, n_neighbors=5, novelty=True)"
      ]
     },
     "execution_count": 46,
     "metadata": {},
     "output_type": "execute_result"
    }
   ],
   "source": [
    "# scaler = preprocessing.StandardScaler().fit(data[\"Day1\"])\n",
    "scaler = preprocessing.MinMaxScaler().fit(data[\"Day1\"])\n",
    "X = scaler.transform(data[\"Day1\"])\n",
    "lof.fit(X)"
   ]
  },
  {
   "cell_type": "code",
   "execution_count": 47,
   "id": "805a3757",
   "metadata": {},
   "outputs": [
    {
     "name": "stdout",
     "output_type": "stream",
     "text": [
      "False positives: 1.78%\n"
     ]
    }
   ],
   "source": [
    "X_test = scaler.transform(data[\"Day2\"])\n",
    "print(f'False positives: {100*sum(lof.predict(X_test) == -1) / len(X_test):.2f}%')"
   ]
  },
  {
   "cell_type": "code",
   "execution_count": 48,
   "id": "edd160b5",
   "metadata": {},
   "outputs": [
    {
     "name": "stdout",
     "output_type": "stream",
     "text": [
      "Detection CTU-Malware-Capture-Botnet-346-1: 0.00% (0 out of 48)\n",
      "Detection CTU-Malware-Capture-Botnet-327-2: 94.44% (68 out of 72)\n",
      "Detection CTU-Malware-Capture-Botnet-230-1: 50.00% (2 out of 4)\n",
      "Detection CTU-Malware-Capture-Botnet-219-2: 9.52% (2 out of 21)\n"
     ]
    }
   ],
   "source": [
    "for folder in mal_folders:\n",
    "    X_test_mal = scaler.transform(mal_data[folder])\n",
    "    print(f'Detection {folder}: {100*sum(lof.predict(X_test_mal) == -1) / len(X_test_mal):.2f}% ({sum(lof.predict(X_test_mal)==-1)} out of {len(X_test_mal)})')"
   ]
  },
  {
   "cell_type": "markdown",
   "id": "a93bea4b",
   "metadata": {},
   "source": [
    "### One class SVM"
   ]
  },
  {
   "cell_type": "code",
   "execution_count": 49,
   "id": "1726f7e9",
   "metadata": {},
   "outputs": [],
   "source": [
    "from sklearn.svm import OneClassSVM\n",
    "from sklearn.linear_model import SGDOneClassSVM"
   ]
  },
  {
   "cell_type": "code",
   "execution_count": 50,
   "id": "83db0ac2",
   "metadata": {},
   "outputs": [],
   "source": [
    "scaler = preprocessing.MinMaxScaler().fit(data[\"Day1\"])\n",
    "X = scaler.transform(data[\"Day1\"])\n",
    "# svm_ = OneClassSVM(nu=0.02, kernel=\"linear\", gamma=0.1).fit(X)\n",
    "svm_ = SGDOneClassSVM(nu=0.02).fit(X)"
   ]
  },
  {
   "cell_type": "code",
   "execution_count": 51,
   "id": "1ad08245",
   "metadata": {},
   "outputs": [
    {
     "name": "stdout",
     "output_type": "stream",
     "text": [
      "False positives: 2.80% (165 out of 5886)\n"
     ]
    }
   ],
   "source": [
    "X_test = scaler.transform(data[\"Day2\"])\n",
    "print(f'False positives: {100*sum(svm_.predict(X_test) == -1) / len(X_test):.2f}% ({sum(svm_.predict(X_test)==-1)} out of {len(X_test)})')"
   ]
  },
  {
   "cell_type": "code",
   "execution_count": 52,
   "id": "4ed3e81e",
   "metadata": {},
   "outputs": [
    {
     "name": "stdout",
     "output_type": "stream",
     "text": [
      "CTU-Malware-Capture-Botnet-346-1 detected: 100.00% (48 out of 48)\n",
      "CTU-Malware-Capture-Botnet-327-2 detected: 100.00% (72 out of 72)\n",
      "CTU-Malware-Capture-Botnet-230-1 detected: 0.00% (0 out of 4)\n",
      "CTU-Malware-Capture-Botnet-219-2 detected: 100.00% (21 out of 21)\n"
     ]
    }
   ],
   "source": [
    "for folder in mal_folders:\n",
    "    X_test_mal = scaler.transform(mal_data[folder])\n",
    "    print(f'{folder} detected: {100*sum(svm_.predict(X_test_mal) == -1) / len(X_test_mal):.2f}% ({sum(svm_.predict(X_test_mal)==-1)} out of {len(X_test_mal)})')"
   ]
  },
  {
   "cell_type": "code",
   "execution_count": null,
   "id": "e0ee54e5",
   "metadata": {},
   "outputs": [],
   "source": []
  },
  {
   "cell_type": "markdown",
   "id": "22dfde51",
   "metadata": {},
   "source": [
    "### Autoencoders (NN)"
   ]
  },
  {
   "cell_type": "code",
   "execution_count": 23,
   "id": "bfd5b2f6",
   "metadata": {},
   "outputs": [],
   "source": [
    "import tensorflow as tf\n",
    "from sklearn.model_selection import train_test_split\n"
   ]
  },
  {
   "cell_type": "code",
   "execution_count": 24,
   "id": "79d80165",
   "metadata": {},
   "outputs": [
    {
     "name": "stderr",
     "output_type": "stream",
     "text": [
      "2022-08-16 09:18:08.184306: I tensorflow/core/platform/cpu_feature_guard.cc:151] This TensorFlow binary is optimized with oneAPI Deep Neural Network Library (oneDNN) to use the following CPU instructions in performance-critical operations:  SSE4.1 SSE4.2\n",
      "To enable them in other operations, rebuild TensorFlow with the appropriate compiler flags.\n",
      "2022-08-16 09:18:08.187373: I tensorflow/core/common_runtime/process_util.cc:146] Creating new thread pool with default inter op setting: 2. Tune using inter_op_parallelism_threads for best performance.\n"
     ]
    }
   ],
   "source": [
    "model = tf.keras.Sequential(\n",
    "    [\n",
    "        tf.keras.layers.Input(shape=(38)),\n",
    "        tf.keras.layers.Dense(32, activation='elu'),\n",
    "        tf.keras.layers.Dropout(0.1),\n",
    "        tf.keras.layers.Dense(20, activation='elu'),\n",
    "        tf.keras.layers.Dropout(0.1),\n",
    "        tf.keras.layers.Dense(10, activation='elu'),\n",
    "        tf.keras.layers.Dropout(0.1),\n",
    "        tf.keras.layers.Dense(20, activation='elu'),\n",
    "        tf.keras.layers.Dropout(0.1),\n",
    "        tf.keras.layers.Dense(32, activation='elu'),\n",
    "        tf.keras.layers.Dropout(0.1),\n",
    "        tf.keras.layers.Dense(38, activation='elu')\n",
    "    ]\n",
    ")\n",
    "model.compile(optimizer=tf.keras.optimizers.Adam(learning_rate=0.001), loss=\"mse\")"
   ]
  },
  {
   "cell_type": "code",
   "execution_count": 27,
   "id": "fbc6bf43",
   "metadata": {},
   "outputs": [
    {
     "name": "stdout",
     "output_type": "stream",
     "text": [
      "Epoch 1/10\n",
      "107/107 [==============================] - 2s 9ms/step - loss: 0.0638 - val_loss: 0.0103\n",
      "Epoch 2/10\n",
      "107/107 [==============================] - 1s 7ms/step - loss: 0.0193 - val_loss: 0.0064\n",
      "Epoch 3/10\n",
      "107/107 [==============================] - 1s 8ms/step - loss: 0.0133 - val_loss: 0.0052\n",
      "Epoch 4/10\n",
      "107/107 [==============================] - 1s 7ms/step - loss: 0.0108 - val_loss: 0.0047\n",
      "Epoch 5/10\n",
      "107/107 [==============================] - 1s 9ms/step - loss: 0.0095 - val_loss: 0.0043\n",
      "Epoch 6/10\n",
      "107/107 [==============================] - 1s 9ms/step - loss: 0.0086 - val_loss: 0.0039\n",
      "Epoch 7/10\n",
      "107/107 [==============================] - 1s 7ms/step - loss: 0.0079 - val_loss: 0.0035\n",
      "Epoch 8/10\n",
      "107/107 [==============================] - 1s 9ms/step - loss: 0.0074 - val_loss: 0.0034\n",
      "Epoch 9/10\n",
      "107/107 [==============================] - 1s 8ms/step - loss: 0.0070 - val_loss: 0.0032\n",
      "Epoch 10/10\n",
      "107/107 [==============================] - 1s 10ms/step - loss: 0.0066 - val_loss: 0.0028\n"
     ]
    }
   ],
   "source": [
    "EPOCHS = 10\n",
    "BATCH_SIZE = 64\n",
    "\n",
    "scaler = preprocessing.MinMaxScaler()\n",
    "\n",
    "X = scaler.fit_transform(data[\"Day1\"])\n",
    "X_test = scaler.transform(data[\"Day2\"])\n",
    "\n",
    "X_train , X_val = train_test_split(X, test_size=0.2)\n",
    "\n",
    "# X = data[\"Day1\"]\n",
    "# X_test = data[\"Day2\"]\n",
    "\n",
    "history = model.fit(\n",
    "    X, X,\n",
    "    shuffle=True,\n",
    "    epochs=EPOCHS,\n",
    "    batch_size=BATCH_SIZE,\n",
    "#     callbacks=cb,\n",
    "    validation_data=(X_val, X_val)\n",
    ")\n"
   ]
  },
  {
   "cell_type": "code",
   "execution_count": 28,
   "id": "1d5cdd30",
   "metadata": {},
   "outputs": [
    {
     "data": {
      "text/plain": [
       "<matplotlib.legend.Legend at 0x7fe5dd03a250>"
      ]
     },
     "execution_count": 28,
     "metadata": {},
     "output_type": "execute_result"
    },
    {
     "data": {
      "image/png": "[encoded data removed]",
      "text/plain": [
       "<Figure size 432x288 with 1 Axes>"
      ]
     },
     "metadata": {
      "needs_background": "light"
     },
     "output_type": "display_data"
    }
   ],
   "source": [
    "plt.plot(history.history[\"loss\"], label=\"train loss\")\n",
    "plt.plot(history.history[\"val_loss\"], label=\"val loss\")\n",
    "plt.legend()"
   ]
  },
  {
   "cell_type": "code",
   "execution_count": 30,
   "id": "614b2bef",
   "metadata": {},
   "outputs": [],
   "source": [
    "rec_ben = model.predict(X_test)\n",
    "mse_ben = np.mean(np.power(X_test - rec_ben, 2), axis=1)\n",
    "\n",
    "\n",
    "rec_mal = dict()\n",
    "mse_mal = dict()\n",
    "for folder in mal_folders:\n",
    "    X_test_mal = scaler.transform(mal_data[folder])\n",
    "    rec_mal[folder] = model.predict(X_test_mal)\n",
    "    mse_mal[folder] = np.mean(np.power(X_test_mal - rec_mal[folder], 2), axis=1)"
   ]
  },
  {
   "cell_type": "code",
   "execution_count": 33,
   "id": "9e238cc6",
   "metadata": {},
   "outputs": [
    {
     "data": {
      "text/plain": [
       "<matplotlib.legend.Legend at 0x7fe5dc1f1670>"
      ]
     },
     "execution_count": 33,
     "metadata": {},
     "output_type": "execute_result"
    },
    {
     "data": {
      "image/png": "[encoded data removed]",
      "text/plain": [
       "<Figure size 432x432 with 1 Axes>"
      ]
     },
     "metadata": {
      "needs_background": "light"
     },
     "output_type": "display_data"
    }
   ],
   "source": [
    "fig, ax = plt.subplots(figsize=(6,6))\n",
    "\n",
    "# ax.hist(mse_ben, bins=10, density=False, label=\"clean\", alpha=.6, color=\"green\")\n",
    "# for folder in mal_folders:\n",
    "# ax.hist(mse_mal[\"CTU-Malware-Capture-Botnet-346-1\"], bins=10, density=False, label=\"CTU-Malware-Capture-Botnet-346-1\", alpha=.6)\n",
    "# ax.hist(mse_mal[\"CTU-Malware-Capture-Botnet-327-2\"], bins=10, density=False, label=\"CTU-Malware-Capture-Botnet-327-2\", alpha=.6)\n",
    "# ax.hist(mse_mal[\"CTU-Malware-Capture-Botnet-230-1\"], bins=10, density=False, label=\"CTU-Malware-Capture-Botnet-230-1\", alpha=.6)\n",
    "ax.hist(mse_mal[\"CTU-Malware-Capture-Botnet-219-2\"], bins=10, density=False, label=\"CTU-Malware-Capture-Botnet-219-2\", alpha=.6)\n",
    "\n",
    "\n",
    "plt.title(\"Distribution of the Reconstruction Loss\")\n",
    "plt.legend()"
   ]
  },
  {
   "cell_type": "code",
   "execution_count": 39,
   "id": "8eef07a5",
   "metadata": {},
   "outputs": [
    {
     "name": "stdout",
     "output_type": "stream",
     "text": [
      "Calculated threshold: 0.01400\n",
      "False positives on next day: 1.16% (68 out of 5886)\n"
     ]
    }
   ],
   "source": [
    "# The number of faulty samples for a 2% FPR (on the training set)\n",
    "rec_ben = model.predict(X_val)\n",
    "mse_ben = np.mean(np.power(X_val - rec_ben, 2), axis=1)\n",
    "num = 0.01*len(X)\n",
    "\n",
    "th = 0.001\n",
    "while (sum(mse_ben > th) > num):\n",
    "    th += 0.001\n",
    "print(f\"Calculated threshold: {th:.5f}\")\n",
    "print(f'False positives on next day: { 100*sum(mse_ben > th) / len(X_test):.2f}% ({sum(mse_ben > th)} out of {len(X_test)})')"
   ]
  },
  {
   "cell_type": "code",
   "execution_count": 40,
   "id": "f3b6f10b",
   "metadata": {},
   "outputs": [
    {
     "name": "stdout",
     "output_type": "stream",
     "text": [
      "CTU-Malware-Capture-Botnet-346-1 detected: 100.00% (48 out of 48)\n",
      "CTU-Malware-Capture-Botnet-327-2 detected: 100.00% (72 out of 72)\n",
      "CTU-Malware-Capture-Botnet-230-1 detected: 50.00% (2 out of 4)\n",
      "CTU-Malware-Capture-Botnet-219-2 detected: 100.00% (21 out of 21)\n"
     ]
    }
   ],
   "source": [
    "for folder in mal_folders:\n",
    "    print(f'{folder} detected: {100*sum(mse_mal[folder] > th) / len(mse_mal[folder]):.2f}% ({sum(mse_mal[folder] > th)} out of {len(mse_mal[folder])})')"
   ]
  },
  {
   "cell_type": "code",
   "execution_count": null,
   "id": "6ff664ba",
   "metadata": {},
   "outputs": [],
   "source": []
  }
 ],
 "metadata": {
  "kernelspec": {
   "display_name": "Python 3.9.12 ('tf')",
   "language": "python",
   "name": "python3"
  },
  "language_info": {
   "codemirror_mode": {
    "name": "ipython",
    "version": 3
   },
   "file_extension": ".py",
   "mimetype": "text/x-python",
   "name": "python",
   "nbconvert_exporter": "python",
   "pygments_lexer": "ipython3",
   "version": "3.9.12"
  },
  "vscode": {
   "interpreter": {
    "hash": "36c92f7767776a2827c74549f7a5f711a4ca8d6f93bcffb5a92ce2d4e492ca7f"
   }
  }
 },
 "nbformat": 4,
 "nbformat_minor": 5
}
